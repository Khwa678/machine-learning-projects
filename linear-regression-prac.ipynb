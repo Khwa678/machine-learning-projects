{
 "cells": [
  {
   "cell_type": "code",
   "execution_count": 1,
   "id": "4793b072",
   "metadata": {
    "_cell_guid": "b1076dfc-b9ad-4769-8c92-a6c4dae69d19",
    "_uuid": "8f2839f25d086af736a60e9eeb907d3b93b6e0e5",
    "execution": {
     "iopub.execute_input": "2025-09-19T19:33:17.853622Z",
     "iopub.status.busy": "2025-09-19T19:33:17.853325Z",
     "iopub.status.idle": "2025-09-19T19:33:19.678619Z",
     "shell.execute_reply": "2025-09-19T19:33:19.677387Z"
    },
    "papermill": {
     "duration": 1.846284,
     "end_time": "2025-09-19T19:33:19.680416",
     "exception": false,
     "start_time": "2025-09-19T19:33:17.834132",
     "status": "completed"
    },
    "tags": []
   },
   "outputs": [],
   "source": [
    "# This Python 3 environment comes with many helpful analytics libraries installed\n",
    "# It is defined by the kaggle/python Docker image: https://github.com/kaggle/docker-python\n",
    "# For example, here's several helpful packages to load\n",
    "\n",
    "import numpy as np # linear algebra\n",
    "import pandas as pd # data processing, CSV file I/O (e.g. pd.read_csv)\n",
    "\n",
    "# Input data files are available in the read-only \"../input/\" directory\n",
    "# For example, running this (by clicking run or pressing Shift+Enter) will list all files under the input directory\n",
    "\n",
    "import os\n",
    "for dirname, _, filenames in os.walk('/kaggle/input'):\n",
    "    for filename in filenames:\n",
    "        print(os.path.join(dirname, filename))\n",
    "\n",
    "# You can write up to 20GB to the current directory (/kaggle/working/) that gets preserved as output when you create a version using \"Save & Run All\" \n",
    "# You can also write temporary files to /kaggle/temp/, but they won't be saved outside of the current session"
   ]
  },
  {
   "cell_type": "code",
   "execution_count": 2,
   "id": "a5be2e9e",
   "metadata": {
    "execution": {
     "iopub.execute_input": "2025-09-19T19:33:19.713694Z",
     "iopub.status.busy": "2025-09-19T19:33:19.713291Z",
     "iopub.status.idle": "2025-09-19T19:33:19.717526Z",
     "shell.execute_reply": "2025-09-19T19:33:19.716659Z"
    },
    "papermill": {
     "duration": 0.022377,
     "end_time": "2025-09-19T19:33:19.719071",
     "exception": false,
     "start_time": "2025-09-19T19:33:19.696694",
     "status": "completed"
    },
    "tags": []
   },
   "outputs": [],
   "source": [
    "import pandas as pd\n"
   ]
  },
  {
   "cell_type": "markdown",
   "id": "170ef46a",
   "metadata": {
    "papermill": {
     "duration": 0.014913,
     "end_time": "2025-09-19T19:33:19.749487",
     "exception": false,
     "start_time": "2025-09-19T19:33:19.734574",
     "status": "completed"
    },
    "tags": []
   },
   "source": [
    "from sklearn.datasets import load_buston"
   ]
  },
  {
   "cell_type": "code",
   "execution_count": 3,
   "id": "e48cd8b7",
   "metadata": {
    "execution": {
     "iopub.execute_input": "2025-09-19T19:33:19.780983Z",
     "iopub.status.busy": "2025-09-19T19:33:19.780613Z",
     "iopub.status.idle": "2025-09-19T19:33:22.246118Z",
     "shell.execute_reply": "2025-09-19T19:33:22.244976Z"
    },
    "papermill": {
     "duration": 2.483069,
     "end_time": "2025-09-19T19:33:22.247708",
     "exception": false,
     "start_time": "2025-09-19T19:33:19.764639",
     "status": "completed"
    },
    "tags": []
   },
   "outputs": [
    {
     "name": "stderr",
     "output_type": "stream",
     "text": [
      "/usr/local/lib/python3.11/dist-packages/sklearn/datasets/_openml.py:968: FutureWarning: The default value of `parser` will change from `'liac-arff'` to `'auto'` in 1.4. You can set `parser='auto'` to silence this warning. Therefore, an `ImportError` will be raised from 1.4 if the dataset is dense and pandas is not installed. Note that the pandas parser may return different data types. See the Notes Section in fetch_openml's API doc for details.\n",
      "  warn(\n"
     ]
    },
    {
     "name": "stdout",
     "output_type": "stream",
     "text": [
      "      CRIM    ZN  INDUS CHAS    NOX     RM   AGE     DIS RAD    TAX  PTRATIO  \\\n",
      "0  0.00632  18.0   2.31    0  0.538  6.575  65.2  4.0900   1  296.0     15.3   \n",
      "1  0.02731   0.0   7.07    0  0.469  6.421  78.9  4.9671   2  242.0     17.8   \n",
      "2  0.02729   0.0   7.07    0  0.469  7.185  61.1  4.9671   2  242.0     17.8   \n",
      "3  0.03237   0.0   2.18    0  0.458  6.998  45.8  6.0622   3  222.0     18.7   \n",
      "4  0.06905   0.0   2.18    0  0.458  7.147  54.2  6.0622   3  222.0     18.7   \n",
      "\n",
      "        B  LSTAT  \n",
      "0  396.90   4.98  \n",
      "1  396.90   9.14  \n",
      "2  392.83   4.03  \n",
      "3  394.63   2.94  \n",
      "4  396.90   5.33  \n",
      "0    24.0\n",
      "1    21.6\n",
      "2    34.7\n",
      "3    33.4\n",
      "4    36.2\n",
      "Name: MEDV, dtype: float64\n"
     ]
    }
   ],
   "source": [
    "from sklearn.datasets import fetch_openml\n",
    "\n",
    "# Boston Housing dataset from OpenML\n",
    "boston = fetch_openml(name=\"boston\", version=1, as_frame=True)\n",
    "\n",
    "X = boston.data\n",
    "y = boston.target\n",
    "\n",
    "print(X.head())\n",
    "print(y.head())\n"
   ]
  },
  {
   "cell_type": "code",
   "execution_count": 4,
   "id": "d297581f",
   "metadata": {
    "execution": {
     "iopub.execute_input": "2025-09-19T19:33:22.346560Z",
     "iopub.status.busy": "2025-09-19T19:33:22.345621Z",
     "iopub.status.idle": "2025-09-19T19:33:22.350680Z",
     "shell.execute_reply": "2025-09-19T19:33:22.349736Z"
    },
    "papermill": {
     "duration": 0.089032,
     "end_time": "2025-09-19T19:33:22.352634",
     "exception": false,
     "start_time": "2025-09-19T19:33:22.263602",
     "status": "completed"
    },
    "tags": []
   },
   "outputs": [],
   "source": [
    "import numpy as np \n",
    "import pandas as pd\n",
    "import matplotlib.pyplot as plt\n"
   ]
  },
  {
   "cell_type": "code",
   "execution_count": 5,
   "id": "91aa3986",
   "metadata": {
    "execution": {
     "iopub.execute_input": "2025-09-19T19:33:22.385871Z",
     "iopub.status.busy": "2025-09-19T19:33:22.385505Z",
     "iopub.status.idle": "2025-09-19T19:33:22.416409Z",
     "shell.execute_reply": "2025-09-19T19:33:22.415489Z"
    },
    "papermill": {
     "duration": 0.049141,
     "end_time": "2025-09-19T19:33:22.418028",
     "exception": false,
     "start_time": "2025-09-19T19:33:22.368887",
     "status": "completed"
    },
    "tags": []
   },
   "outputs": [
    {
     "name": "stdout",
     "output_type": "stream",
     "text": [
      "      CRIM    ZN  INDUS CHAS    NOX     RM   AGE     DIS RAD    TAX  PTRATIO  \\\n",
      "0  0.00632  18.0   2.31    0  0.538  6.575  65.2  4.0900   1  296.0     15.3   \n",
      "1  0.02731   0.0   7.07    0  0.469  6.421  78.9  4.9671   2  242.0     17.8   \n",
      "2  0.02729   0.0   7.07    0  0.469  7.185  61.1  4.9671   2  242.0     17.8   \n",
      "3  0.03237   0.0   2.18    0  0.458  6.998  45.8  6.0622   3  222.0     18.7   \n",
      "4  0.06905   0.0   2.18    0  0.458  7.147  54.2  6.0622   3  222.0     18.7   \n",
      "\n",
      "        B  LSTAT  target  \n",
      "0  396.90   4.98    24.0  \n",
      "1  396.90   9.14    21.6  \n",
      "2  392.83   4.03    34.7  \n",
      "3  394.63   2.94    33.4  \n",
      "4  396.90   5.33    36.2  \n"
     ]
    },
    {
     "name": "stderr",
     "output_type": "stream",
     "text": [
      "/usr/local/lib/python3.11/dist-packages/sklearn/datasets/_openml.py:968: FutureWarning: The default value of `parser` will change from `'liac-arff'` to `'auto'` in 1.4. You can set `parser='auto'` to silence this warning. Therefore, an `ImportError` will be raised from 1.4 if the dataset is dense and pandas is not installed. Note that the pandas parser may return different data types. See the Notes Section in fetch_openml's API doc for details.\n",
      "  warn(\n"
     ]
    }
   ],
   "source": [
    "import pandas as pd\n",
    "from sklearn.datasets import fetch_openml\n",
    "\n",
    "# Example with Boston dataset\n",
    "boston = fetch_openml(name=\"boston\", version=1, as_frame=True)\n",
    "\n",
    "# Create DataFrame\n",
    "df = pd.DataFrame(boston.data, columns=boston.feature_names)\n",
    "df['target'] = boston.target\n",
    "\n",
    "print(df.head())\n"
   ]
  },
  {
   "cell_type": "code",
   "execution_count": 6,
   "id": "a0f082d8",
   "metadata": {
    "execution": {
     "iopub.execute_input": "2025-09-19T19:33:22.451315Z",
     "iopub.status.busy": "2025-09-19T19:33:22.450953Z",
     "iopub.status.idle": "2025-09-19T19:33:22.927079Z",
     "shell.execute_reply": "2025-09-19T19:33:22.926038Z"
    },
    "papermill": {
     "duration": 0.494691,
     "end_time": "2025-09-19T19:33:22.928622",
     "exception": false,
     "start_time": "2025-09-19T19:33:22.433931",
     "status": "completed"
    },
    "tags": []
   },
   "outputs": [
    {
     "name": "stdout",
     "output_type": "stream",
     "text": [
      "   MedInc  HouseAge  AveRooms  AveBedrms  Population  AveOccup  Latitude  \\\n",
      "0  8.3252      41.0  6.984127   1.023810       322.0  2.555556     37.88   \n",
      "1  8.3014      21.0  6.238137   0.971880      2401.0  2.109842     37.86   \n",
      "2  7.2574      52.0  8.288136   1.073446       496.0  2.802260     37.85   \n",
      "3  5.6431      52.0  5.817352   1.073059       558.0  2.547945     37.85   \n",
      "4  3.8462      52.0  6.281853   1.081081       565.0  2.181467     37.85   \n",
      "\n",
      "   Longitude  target  \n",
      "0    -122.23   4.526  \n",
      "1    -122.22   3.585  \n",
      "2    -122.24   3.521  \n",
      "3    -122.25   3.413  \n",
      "4    -122.25   3.422  \n"
     ]
    }
   ],
   "source": [
    "import pandas as pd\n",
    "from sklearn.datasets import fetch_california_housing\n",
    "\n",
    "# Load dataset\n",
    "california = fetch_california_housing()\n",
    "\n",
    "# Convert to DataFrame\n",
    "df = pd.DataFrame(california.data, columns=california.feature_names)\n",
    "\n",
    "# Add target column\n",
    "df[\"target\"] = california.target\n",
    "\n",
    "# Show first rows\n",
    "print(df.head())\n"
   ]
  },
  {
   "cell_type": "code",
   "execution_count": 7,
   "id": "033cb8cc",
   "metadata": {
    "execution": {
     "iopub.execute_input": "2025-09-19T19:33:22.963387Z",
     "iopub.status.busy": "2025-09-19T19:33:22.962451Z",
     "iopub.status.idle": "2025-09-19T19:33:22.981490Z",
     "shell.execute_reply": "2025-09-19T19:33:22.980525Z"
    },
    "papermill": {
     "duration": 0.037817,
     "end_time": "2025-09-19T19:33:22.983045",
     "exception": false,
     "start_time": "2025-09-19T19:33:22.945228",
     "status": "completed"
    },
    "tags": []
   },
   "outputs": [
    {
     "name": "stdout",
     "output_type": "stream",
     "text": [
      "   MedInc  HouseAge  AveRooms  AveBedrms  Population  AveOccup  Latitude  \\\n",
      "0  8.3252      41.0  6.984127   1.023810       322.0  2.555556     37.88   \n",
      "1  8.3014      21.0  6.238137   0.971880      2401.0  2.109842     37.86   \n",
      "2  7.2574      52.0  8.288136   1.073446       496.0  2.802260     37.85   \n",
      "3  5.6431      52.0  5.817352   1.073059       558.0  2.547945     37.85   \n",
      "4  3.8462      52.0  6.281853   1.081081       565.0  2.181467     37.85   \n",
      "\n",
      "   Longitude  target  \n",
      "0    -122.23   4.526  \n",
      "1    -122.22   3.585  \n",
      "2    -122.24   3.521  \n",
      "3    -122.25   3.413  \n",
      "4    -122.25   3.422  \n"
     ]
    }
   ],
   "source": [
    "from sklearn.datasets import fetch_california_housing\n",
    "import pandas as pd\n",
    "\n",
    "# Load dataset\n",
    "dataset = fetch_california_housing()\n",
    "\n",
    "# Convert to DataFrame\n",
    "df = pd.DataFrame(dataset.data, columns=dataset.feature_names)\n",
    "\n",
    "# Add target column\n",
    "df['target'] = dataset.target\n",
    "\n",
    "# Check\n",
    "print(df.head())\n"
   ]
  },
  {
   "cell_type": "code",
   "execution_count": 8,
   "id": "11a228f3",
   "metadata": {
    "execution": {
     "iopub.execute_input": "2025-09-19T19:33:23.016897Z",
     "iopub.status.busy": "2025-09-19T19:33:23.016527Z",
     "iopub.status.idle": "2025-09-19T19:33:23.021531Z",
     "shell.execute_reply": "2025-09-19T19:33:23.020706Z"
    },
    "papermill": {
     "duration": 0.023671,
     "end_time": "2025-09-19T19:33:23.023179",
     "exception": false,
     "start_time": "2025-09-19T19:33:22.999508",
     "status": "completed"
    },
    "tags": []
   },
   "outputs": [],
   "source": [
    "df = pd.DataFrame(dataset.data)\n",
    "df.columns = dataset.feature_names  # Assign column names manually\n"
   ]
  },
  {
   "cell_type": "code",
   "execution_count": 9,
   "id": "685a834f",
   "metadata": {
    "execution": {
     "iopub.execute_input": "2025-09-19T19:33:23.056244Z",
     "iopub.status.busy": "2025-09-19T19:33:23.055916Z",
     "iopub.status.idle": "2025-09-19T19:33:23.179640Z",
     "shell.execute_reply": "2025-09-19T19:33:23.178654Z"
    },
    "papermill": {
     "duration": 0.142108,
     "end_time": "2025-09-19T19:33:23.181325",
     "exception": false,
     "start_time": "2025-09-19T19:33:23.039217",
     "status": "completed"
    },
    "tags": []
   },
   "outputs": [],
   "source": [
    "#train test split \"\"\n",
    "from sklearn.model_selection import train_test_split\n",
    "X_train,X_test,y_train,y_test=train_test_split(X,y,test_size=0.30,random_state=42)\n"
   ]
  },
  {
   "cell_type": "raw",
   "id": "a46e93b3",
   "metadata": {
    "papermill": {
     "duration": 0.015987,
     "end_time": "2025-09-19T19:33:23.213377",
     "exception": false,
     "start_time": "2025-09-19T19:33:23.197390",
     "status": "completed"
    },
    "tags": []
   },
   "source": [
    "from sklearn.preprocessing import StandardScaler\n",
    "scaler =StandardScaler()\n",
    "X_train =scaler.fit_transform(X_train)\n",
    "X_test=scaler.transform(X_test)\n"
   ]
  },
  {
   "cell_type": "code",
   "execution_count": 10,
   "id": "7b08e37b",
   "metadata": {
    "execution": {
     "iopub.execute_input": "2025-09-19T19:33:23.246101Z",
     "iopub.status.busy": "2025-09-19T19:33:23.245752Z",
     "iopub.status.idle": "2025-09-19T19:33:23.275652Z",
     "shell.execute_reply": "2025-09-19T19:33:23.274797Z"
    },
    "papermill": {
     "duration": 0.048036,
     "end_time": "2025-09-19T19:33:23.277148",
     "exception": false,
     "start_time": "2025-09-19T19:33:23.229112",
     "status": "completed"
    },
    "tags": []
   },
   "outputs": [
    {
     "data": {
      "text/html": [
       "<div>\n",
       "<style scoped>\n",
       "    .dataframe tbody tr th:only-of-type {\n",
       "        vertical-align: middle;\n",
       "    }\n",
       "\n",
       "    .dataframe tbody tr th {\n",
       "        vertical-align: top;\n",
       "    }\n",
       "\n",
       "    .dataframe thead th {\n",
       "        text-align: right;\n",
       "    }\n",
       "</style>\n",
       "<table border=\"1\" class=\"dataframe\">\n",
       "  <thead>\n",
       "    <tr style=\"text-align: right;\">\n",
       "      <th></th>\n",
       "      <th>CRIM</th>\n",
       "      <th>ZN</th>\n",
       "      <th>INDUS</th>\n",
       "      <th>CHAS</th>\n",
       "      <th>NOX</th>\n",
       "      <th>RM</th>\n",
       "      <th>AGE</th>\n",
       "      <th>DIS</th>\n",
       "      <th>RAD</th>\n",
       "      <th>TAX</th>\n",
       "      <th>PTRATIO</th>\n",
       "      <th>B</th>\n",
       "      <th>LSTAT</th>\n",
       "    </tr>\n",
       "  </thead>\n",
       "  <tbody>\n",
       "    <tr>\n",
       "      <th>5</th>\n",
       "      <td>0.02985</td>\n",
       "      <td>0.0</td>\n",
       "      <td>2.18</td>\n",
       "      <td>0</td>\n",
       "      <td>0.458</td>\n",
       "      <td>6.430</td>\n",
       "      <td>58.7</td>\n",
       "      <td>6.0622</td>\n",
       "      <td>3</td>\n",
       "      <td>222.0</td>\n",
       "      <td>18.7</td>\n",
       "      <td>394.12</td>\n",
       "      <td>5.21</td>\n",
       "    </tr>\n",
       "    <tr>\n",
       "      <th>116</th>\n",
       "      <td>0.13158</td>\n",
       "      <td>0.0</td>\n",
       "      <td>10.01</td>\n",
       "      <td>0</td>\n",
       "      <td>0.547</td>\n",
       "      <td>6.176</td>\n",
       "      <td>72.5</td>\n",
       "      <td>2.7301</td>\n",
       "      <td>6</td>\n",
       "      <td>432.0</td>\n",
       "      <td>17.8</td>\n",
       "      <td>393.30</td>\n",
       "      <td>12.04</td>\n",
       "    </tr>\n",
       "    <tr>\n",
       "      <th>45</th>\n",
       "      <td>0.17142</td>\n",
       "      <td>0.0</td>\n",
       "      <td>6.91</td>\n",
       "      <td>0</td>\n",
       "      <td>0.448</td>\n",
       "      <td>5.682</td>\n",
       "      <td>33.8</td>\n",
       "      <td>5.1004</td>\n",
       "      <td>3</td>\n",
       "      <td>233.0</td>\n",
       "      <td>17.9</td>\n",
       "      <td>396.90</td>\n",
       "      <td>10.21</td>\n",
       "    </tr>\n",
       "    <tr>\n",
       "      <th>16</th>\n",
       "      <td>1.05393</td>\n",
       "      <td>0.0</td>\n",
       "      <td>8.14</td>\n",
       "      <td>0</td>\n",
       "      <td>0.538</td>\n",
       "      <td>5.935</td>\n",
       "      <td>29.3</td>\n",
       "      <td>4.4986</td>\n",
       "      <td>4</td>\n",
       "      <td>307.0</td>\n",
       "      <td>21.0</td>\n",
       "      <td>386.85</td>\n",
       "      <td>6.58</td>\n",
       "    </tr>\n",
       "    <tr>\n",
       "      <th>468</th>\n",
       "      <td>15.57570</td>\n",
       "      <td>0.0</td>\n",
       "      <td>18.10</td>\n",
       "      <td>0</td>\n",
       "      <td>0.580</td>\n",
       "      <td>5.926</td>\n",
       "      <td>71.0</td>\n",
       "      <td>2.9084</td>\n",
       "      <td>24</td>\n",
       "      <td>666.0</td>\n",
       "      <td>20.2</td>\n",
       "      <td>368.74</td>\n",
       "      <td>18.13</td>\n",
       "    </tr>\n",
       "    <tr>\n",
       "      <th>...</th>\n",
       "      <td>...</td>\n",
       "      <td>...</td>\n",
       "      <td>...</td>\n",
       "      <td>...</td>\n",
       "      <td>...</td>\n",
       "      <td>...</td>\n",
       "      <td>...</td>\n",
       "      <td>...</td>\n",
       "      <td>...</td>\n",
       "      <td>...</td>\n",
       "      <td>...</td>\n",
       "      <td>...</td>\n",
       "      <td>...</td>\n",
       "    </tr>\n",
       "    <tr>\n",
       "      <th>106</th>\n",
       "      <td>0.17120</td>\n",
       "      <td>0.0</td>\n",
       "      <td>8.56</td>\n",
       "      <td>0</td>\n",
       "      <td>0.520</td>\n",
       "      <td>5.836</td>\n",
       "      <td>91.9</td>\n",
       "      <td>2.2110</td>\n",
       "      <td>5</td>\n",
       "      <td>384.0</td>\n",
       "      <td>20.9</td>\n",
       "      <td>395.67</td>\n",
       "      <td>18.66</td>\n",
       "    </tr>\n",
       "    <tr>\n",
       "      <th>270</th>\n",
       "      <td>0.29916</td>\n",
       "      <td>20.0</td>\n",
       "      <td>6.96</td>\n",
       "      <td>0</td>\n",
       "      <td>0.464</td>\n",
       "      <td>5.856</td>\n",
       "      <td>42.1</td>\n",
       "      <td>4.4290</td>\n",
       "      <td>3</td>\n",
       "      <td>223.0</td>\n",
       "      <td>18.6</td>\n",
       "      <td>388.65</td>\n",
       "      <td>13.00</td>\n",
       "    </tr>\n",
       "    <tr>\n",
       "      <th>348</th>\n",
       "      <td>0.01501</td>\n",
       "      <td>80.0</td>\n",
       "      <td>2.01</td>\n",
       "      <td>0</td>\n",
       "      <td>0.435</td>\n",
       "      <td>6.635</td>\n",
       "      <td>29.7</td>\n",
       "      <td>8.3440</td>\n",
       "      <td>4</td>\n",
       "      <td>280.0</td>\n",
       "      <td>17.0</td>\n",
       "      <td>390.94</td>\n",
       "      <td>5.99</td>\n",
       "    </tr>\n",
       "    <tr>\n",
       "      <th>435</th>\n",
       "      <td>11.16040</td>\n",
       "      <td>0.0</td>\n",
       "      <td>18.10</td>\n",
       "      <td>0</td>\n",
       "      <td>0.740</td>\n",
       "      <td>6.629</td>\n",
       "      <td>94.6</td>\n",
       "      <td>2.1247</td>\n",
       "      <td>24</td>\n",
       "      <td>666.0</td>\n",
       "      <td>20.2</td>\n",
       "      <td>109.85</td>\n",
       "      <td>23.27</td>\n",
       "    </tr>\n",
       "    <tr>\n",
       "      <th>102</th>\n",
       "      <td>0.22876</td>\n",
       "      <td>0.0</td>\n",
       "      <td>8.56</td>\n",
       "      <td>0</td>\n",
       "      <td>0.520</td>\n",
       "      <td>6.405</td>\n",
       "      <td>85.4</td>\n",
       "      <td>2.7147</td>\n",
       "      <td>5</td>\n",
       "      <td>384.0</td>\n",
       "      <td>20.9</td>\n",
       "      <td>70.80</td>\n",
       "      <td>10.63</td>\n",
       "    </tr>\n",
       "  </tbody>\n",
       "</table>\n",
       "<p>354 rows × 13 columns</p>\n",
       "</div>"
      ],
      "text/plain": [
       "         CRIM    ZN  INDUS CHAS    NOX     RM   AGE     DIS RAD    TAX  \\\n",
       "5     0.02985   0.0   2.18    0  0.458  6.430  58.7  6.0622   3  222.0   \n",
       "116   0.13158   0.0  10.01    0  0.547  6.176  72.5  2.7301   6  432.0   \n",
       "45    0.17142   0.0   6.91    0  0.448  5.682  33.8  5.1004   3  233.0   \n",
       "16    1.05393   0.0   8.14    0  0.538  5.935  29.3  4.4986   4  307.0   \n",
       "468  15.57570   0.0  18.10    0  0.580  5.926  71.0  2.9084  24  666.0   \n",
       "..        ...   ...    ...  ...    ...    ...   ...     ...  ..    ...   \n",
       "106   0.17120   0.0   8.56    0  0.520  5.836  91.9  2.2110   5  384.0   \n",
       "270   0.29916  20.0   6.96    0  0.464  5.856  42.1  4.4290   3  223.0   \n",
       "348   0.01501  80.0   2.01    0  0.435  6.635  29.7  8.3440   4  280.0   \n",
       "435  11.16040   0.0  18.10    0  0.740  6.629  94.6  2.1247  24  666.0   \n",
       "102   0.22876   0.0   8.56    0  0.520  6.405  85.4  2.7147   5  384.0   \n",
       "\n",
       "     PTRATIO       B  LSTAT  \n",
       "5       18.7  394.12   5.21  \n",
       "116     17.8  393.30  12.04  \n",
       "45      17.9  396.90  10.21  \n",
       "16      21.0  386.85   6.58  \n",
       "468     20.2  368.74  18.13  \n",
       "..       ...     ...    ...  \n",
       "106     20.9  395.67  18.66  \n",
       "270     18.6  388.65  13.00  \n",
       "348     17.0  390.94   5.99  \n",
       "435     20.2  109.85  23.27  \n",
       "102     20.9   70.80  10.63  \n",
       "\n",
       "[354 rows x 13 columns]"
      ]
     },
     "execution_count": 10,
     "metadata": {},
     "output_type": "execute_result"
    }
   ],
   "source": [
    "X_train"
   ]
  },
  {
   "cell_type": "code",
   "execution_count": 11,
   "id": "80732378",
   "metadata": {
    "execution": {
     "iopub.execute_input": "2025-09-19T19:33:23.311600Z",
     "iopub.status.busy": "2025-09-19T19:33:23.311004Z",
     "iopub.status.idle": "2025-09-19T19:33:23.332087Z",
     "shell.execute_reply": "2025-09-19T19:33:23.331056Z"
    },
    "papermill": {
     "duration": 0.040037,
     "end_time": "2025-09-19T19:33:23.333597",
     "exception": false,
     "start_time": "2025-09-19T19:33:23.293560",
     "status": "completed"
    },
    "tags": []
   },
   "outputs": [
    {
     "data": {
      "text/html": [
       "<div>\n",
       "<style scoped>\n",
       "    .dataframe tbody tr th:only-of-type {\n",
       "        vertical-align: middle;\n",
       "    }\n",
       "\n",
       "    .dataframe tbody tr th {\n",
       "        vertical-align: top;\n",
       "    }\n",
       "\n",
       "    .dataframe thead th {\n",
       "        text-align: right;\n",
       "    }\n",
       "</style>\n",
       "<table border=\"1\" class=\"dataframe\">\n",
       "  <thead>\n",
       "    <tr style=\"text-align: right;\">\n",
       "      <th></th>\n",
       "      <th>CRIM</th>\n",
       "      <th>ZN</th>\n",
       "      <th>INDUS</th>\n",
       "      <th>CHAS</th>\n",
       "      <th>NOX</th>\n",
       "      <th>RM</th>\n",
       "      <th>AGE</th>\n",
       "      <th>DIS</th>\n",
       "      <th>RAD</th>\n",
       "      <th>TAX</th>\n",
       "      <th>PTRATIO</th>\n",
       "      <th>B</th>\n",
       "      <th>LSTAT</th>\n",
       "    </tr>\n",
       "  </thead>\n",
       "  <tbody>\n",
       "    <tr>\n",
       "      <th>173</th>\n",
       "      <td>0.09178</td>\n",
       "      <td>0.0</td>\n",
       "      <td>4.05</td>\n",
       "      <td>0</td>\n",
       "      <td>0.510</td>\n",
       "      <td>6.416</td>\n",
       "      <td>84.1</td>\n",
       "      <td>2.6463</td>\n",
       "      <td>5</td>\n",
       "      <td>296.0</td>\n",
       "      <td>16.6</td>\n",
       "      <td>395.50</td>\n",
       "      <td>9.04</td>\n",
       "    </tr>\n",
       "    <tr>\n",
       "      <th>274</th>\n",
       "      <td>0.05644</td>\n",
       "      <td>40.0</td>\n",
       "      <td>6.41</td>\n",
       "      <td>1</td>\n",
       "      <td>0.447</td>\n",
       "      <td>6.758</td>\n",
       "      <td>32.9</td>\n",
       "      <td>4.0776</td>\n",
       "      <td>4</td>\n",
       "      <td>254.0</td>\n",
       "      <td>17.6</td>\n",
       "      <td>396.90</td>\n",
       "      <td>3.53</td>\n",
       "    </tr>\n",
       "    <tr>\n",
       "      <th>491</th>\n",
       "      <td>0.10574</td>\n",
       "      <td>0.0</td>\n",
       "      <td>27.74</td>\n",
       "      <td>0</td>\n",
       "      <td>0.609</td>\n",
       "      <td>5.983</td>\n",
       "      <td>98.8</td>\n",
       "      <td>1.8681</td>\n",
       "      <td>4</td>\n",
       "      <td>711.0</td>\n",
       "      <td>20.1</td>\n",
       "      <td>390.11</td>\n",
       "      <td>18.07</td>\n",
       "    </tr>\n",
       "    <tr>\n",
       "      <th>72</th>\n",
       "      <td>0.09164</td>\n",
       "      <td>0.0</td>\n",
       "      <td>10.81</td>\n",
       "      <td>0</td>\n",
       "      <td>0.413</td>\n",
       "      <td>6.065</td>\n",
       "      <td>7.8</td>\n",
       "      <td>5.2873</td>\n",
       "      <td>4</td>\n",
       "      <td>305.0</td>\n",
       "      <td>19.2</td>\n",
       "      <td>390.91</td>\n",
       "      <td>5.52</td>\n",
       "    </tr>\n",
       "    <tr>\n",
       "      <th>452</th>\n",
       "      <td>5.09017</td>\n",
       "      <td>0.0</td>\n",
       "      <td>18.10</td>\n",
       "      <td>0</td>\n",
       "      <td>0.713</td>\n",
       "      <td>6.297</td>\n",
       "      <td>91.8</td>\n",
       "      <td>2.3682</td>\n",
       "      <td>24</td>\n",
       "      <td>666.0</td>\n",
       "      <td>20.2</td>\n",
       "      <td>385.09</td>\n",
       "      <td>17.27</td>\n",
       "    </tr>\n",
       "    <tr>\n",
       "      <th>...</th>\n",
       "      <td>...</td>\n",
       "      <td>...</td>\n",
       "      <td>...</td>\n",
       "      <td>...</td>\n",
       "      <td>...</td>\n",
       "      <td>...</td>\n",
       "      <td>...</td>\n",
       "      <td>...</td>\n",
       "      <td>...</td>\n",
       "      <td>...</td>\n",
       "      <td>...</td>\n",
       "      <td>...</td>\n",
       "      <td>...</td>\n",
       "    </tr>\n",
       "    <tr>\n",
       "      <th>441</th>\n",
       "      <td>9.72418</td>\n",
       "      <td>0.0</td>\n",
       "      <td>18.10</td>\n",
       "      <td>0</td>\n",
       "      <td>0.740</td>\n",
       "      <td>6.406</td>\n",
       "      <td>97.2</td>\n",
       "      <td>2.0651</td>\n",
       "      <td>24</td>\n",
       "      <td>666.0</td>\n",
       "      <td>20.2</td>\n",
       "      <td>385.96</td>\n",
       "      <td>19.52</td>\n",
       "    </tr>\n",
       "    <tr>\n",
       "      <th>23</th>\n",
       "      <td>0.98843</td>\n",
       "      <td>0.0</td>\n",
       "      <td>8.14</td>\n",
       "      <td>0</td>\n",
       "      <td>0.538</td>\n",
       "      <td>5.813</td>\n",
       "      <td>100.0</td>\n",
       "      <td>4.0952</td>\n",
       "      <td>4</td>\n",
       "      <td>307.0</td>\n",
       "      <td>21.0</td>\n",
       "      <td>394.54</td>\n",
       "      <td>19.88</td>\n",
       "    </tr>\n",
       "    <tr>\n",
       "      <th>225</th>\n",
       "      <td>0.52693</td>\n",
       "      <td>0.0</td>\n",
       "      <td>6.20</td>\n",
       "      <td>0</td>\n",
       "      <td>0.504</td>\n",
       "      <td>8.725</td>\n",
       "      <td>83.0</td>\n",
       "      <td>2.8944</td>\n",
       "      <td>8</td>\n",
       "      <td>307.0</td>\n",
       "      <td>17.4</td>\n",
       "      <td>382.00</td>\n",
       "      <td>4.63</td>\n",
       "    </tr>\n",
       "    <tr>\n",
       "      <th>433</th>\n",
       "      <td>5.58107</td>\n",
       "      <td>0.0</td>\n",
       "      <td>18.10</td>\n",
       "      <td>0</td>\n",
       "      <td>0.713</td>\n",
       "      <td>6.436</td>\n",
       "      <td>87.9</td>\n",
       "      <td>2.3158</td>\n",
       "      <td>24</td>\n",
       "      <td>666.0</td>\n",
       "      <td>20.2</td>\n",
       "      <td>100.19</td>\n",
       "      <td>16.22</td>\n",
       "    </tr>\n",
       "    <tr>\n",
       "      <th>447</th>\n",
       "      <td>9.92485</td>\n",
       "      <td>0.0</td>\n",
       "      <td>18.10</td>\n",
       "      <td>0</td>\n",
       "      <td>0.740</td>\n",
       "      <td>6.251</td>\n",
       "      <td>96.6</td>\n",
       "      <td>2.1980</td>\n",
       "      <td>24</td>\n",
       "      <td>666.0</td>\n",
       "      <td>20.2</td>\n",
       "      <td>388.52</td>\n",
       "      <td>16.44</td>\n",
       "    </tr>\n",
       "  </tbody>\n",
       "</table>\n",
       "<p>152 rows × 13 columns</p>\n",
       "</div>"
      ],
      "text/plain": [
       "        CRIM    ZN  INDUS CHAS    NOX     RM    AGE     DIS RAD    TAX  \\\n",
       "173  0.09178   0.0   4.05    0  0.510  6.416   84.1  2.6463   5  296.0   \n",
       "274  0.05644  40.0   6.41    1  0.447  6.758   32.9  4.0776   4  254.0   \n",
       "491  0.10574   0.0  27.74    0  0.609  5.983   98.8  1.8681   4  711.0   \n",
       "72   0.09164   0.0  10.81    0  0.413  6.065    7.8  5.2873   4  305.0   \n",
       "452  5.09017   0.0  18.10    0  0.713  6.297   91.8  2.3682  24  666.0   \n",
       "..       ...   ...    ...  ...    ...    ...    ...     ...  ..    ...   \n",
       "441  9.72418   0.0  18.10    0  0.740  6.406   97.2  2.0651  24  666.0   \n",
       "23   0.98843   0.0   8.14    0  0.538  5.813  100.0  4.0952   4  307.0   \n",
       "225  0.52693   0.0   6.20    0  0.504  8.725   83.0  2.8944   8  307.0   \n",
       "433  5.58107   0.0  18.10    0  0.713  6.436   87.9  2.3158  24  666.0   \n",
       "447  9.92485   0.0  18.10    0  0.740  6.251   96.6  2.1980  24  666.0   \n",
       "\n",
       "     PTRATIO       B  LSTAT  \n",
       "173     16.6  395.50   9.04  \n",
       "274     17.6  396.90   3.53  \n",
       "491     20.1  390.11  18.07  \n",
       "72      19.2  390.91   5.52  \n",
       "452     20.2  385.09  17.27  \n",
       "..       ...     ...    ...  \n",
       "441     20.2  385.96  19.52  \n",
       "23      21.0  394.54  19.88  \n",
       "225     17.4  382.00   4.63  \n",
       "433     20.2  100.19  16.22  \n",
       "447     20.2  388.52  16.44  \n",
       "\n",
       "[152 rows x 13 columns]"
      ]
     },
     "execution_count": 11,
     "metadata": {},
     "output_type": "execute_result"
    }
   ],
   "source": [
    "X_test"
   ]
  },
  {
   "cell_type": "code",
   "execution_count": 12,
   "id": "a74c7299",
   "metadata": {
    "execution": {
     "iopub.execute_input": "2025-09-19T19:33:23.368325Z",
     "iopub.status.busy": "2025-09-19T19:33:23.367987Z",
     "iopub.status.idle": "2025-09-19T19:33:23.468588Z",
     "shell.execute_reply": "2025-09-19T19:33:23.467569Z"
    },
    "papermill": {
     "duration": 0.119949,
     "end_time": "2025-09-19T19:33:23.470382",
     "exception": false,
     "start_time": "2025-09-19T19:33:23.350433",
     "status": "completed"
    },
    "tags": []
   },
   "outputs": [],
   "source": [
    "\n",
    "from sklearn.linear_model import LinearRegression \n",
    "##cross validation ::\n",
    "\n",
    "from sklearn.model_selection import cross_val_score\n"
   ]
  },
  {
   "cell_type": "code",
   "execution_count": 13,
   "id": "b0ddcca8",
   "metadata": {
    "execution": {
     "iopub.execute_input": "2025-09-19T19:33:23.505289Z",
     "iopub.status.busy": "2025-09-19T19:33:23.504954Z",
     "iopub.status.idle": "2025-09-19T19:33:23.509440Z",
     "shell.execute_reply": "2025-09-19T19:33:23.508423Z"
    },
    "papermill": {
     "duration": 0.023594,
     "end_time": "2025-09-19T19:33:23.510965",
     "exception": false,
     "start_time": "2025-09-19T19:33:23.487371",
     "status": "completed"
    },
    "tags": []
   },
   "outputs": [],
   "source": [
    "regression =LinearRegression()\n"
   ]
  },
  {
   "cell_type": "code",
   "execution_count": 14,
   "id": "20344da1",
   "metadata": {
    "execution": {
     "iopub.execute_input": "2025-09-19T19:33:23.545444Z",
     "iopub.status.busy": "2025-09-19T19:33:23.545127Z",
     "iopub.status.idle": "2025-09-19T19:33:23.637853Z",
     "shell.execute_reply": "2025-09-19T19:33:23.636828Z"
    },
    "papermill": {
     "duration": 0.112023,
     "end_time": "2025-09-19T19:33:23.639730",
     "exception": false,
     "start_time": "2025-09-19T19:33:23.527707",
     "status": "completed"
    },
    "tags": []
   },
   "outputs": [
    {
     "name": "stdout",
     "output_type": "stream",
     "text": [
      "Raw scores (negative MSE): [nan nan nan nan nan]\n",
      "MSE scores: [nan nan nan nan nan]\n"
     ]
    },
    {
     "name": "stderr",
     "output_type": "stream",
     "text": [
      "/usr/local/lib/python3.11/dist-packages/sklearn/model_selection/_validation.py:794: UserWarning: Scoring failed. The score on this train-test partition for these parameters will be set to nan. Details: \n",
      "Traceback (most recent call last):\n",
      "  File \"/usr/local/lib/python3.11/dist-packages/sklearn/metrics/_scorer.py\", line 115, in __call__\n",
      "    score = scorer._score(cached_call, estimator, *args, **kwargs)\n",
      "            ^^^^^^^^^^^^^^^^^^^^^^^^^^^^^^^^^^^^^^^^^^^^^^^^^^^^^^\n",
      "  File \"/usr/local/lib/python3.11/dist-packages/sklearn/metrics/_scorer.py\", line 276, in _score\n",
      "    y_pred = method_caller(estimator, \"predict\", X)\n",
      "             ^^^^^^^^^^^^^^^^^^^^^^^^^^^^^^^^^^^^^^\n",
      "  File \"/usr/local/lib/python3.11/dist-packages/sklearn/metrics/_scorer.py\", line 73, in _cached_call\n",
      "    return getattr(estimator, method)(*args, **kwargs)\n",
      "           ^^^^^^^^^^^^^^^^^^^^^^^^^^^^^^^^^^^^^^^^^^^\n",
      "  File \"/usr/local/lib/python3.11/dist-packages/sklearn/linear_model/_base.py\", line 354, in predict\n",
      "    return self._decision_function(X)\n",
      "           ^^^^^^^^^^^^^^^^^^^^^^^^^^\n",
      "  File \"/usr/local/lib/python3.11/dist-packages/sklearn/linear_model/_base.py\", line 338, in _decision_function\n",
      "    return safe_sparse_dot(X, self.coef_.T, dense_output=True) + self.intercept_\n",
      "           ^^^^^^^^^^^^^^^^^^^^^^^^^^^^^^^^^^^^^^^^^^^^^^^^^^^\n",
      "  File \"/usr/local/lib/python3.11/dist-packages/sklearn/utils/extmath.py\", line 189, in safe_sparse_dot\n",
      "    ret = a @ b\n",
      "          ~~^~~\n",
      "TypeError: can't multiply sequence by non-int of type 'float'\n",
      "\n",
      "  warnings.warn(\n",
      "/usr/local/lib/python3.11/dist-packages/sklearn/model_selection/_validation.py:794: UserWarning: Scoring failed. The score on this train-test partition for these parameters will be set to nan. Details: \n",
      "Traceback (most recent call last):\n",
      "  File \"/usr/local/lib/python3.11/dist-packages/sklearn/metrics/_scorer.py\", line 115, in __call__\n",
      "    score = scorer._score(cached_call, estimator, *args, **kwargs)\n",
      "            ^^^^^^^^^^^^^^^^^^^^^^^^^^^^^^^^^^^^^^^^^^^^^^^^^^^^^^\n",
      "  File \"/usr/local/lib/python3.11/dist-packages/sklearn/metrics/_scorer.py\", line 276, in _score\n",
      "    y_pred = method_caller(estimator, \"predict\", X)\n",
      "             ^^^^^^^^^^^^^^^^^^^^^^^^^^^^^^^^^^^^^^\n",
      "  File \"/usr/local/lib/python3.11/dist-packages/sklearn/metrics/_scorer.py\", line 73, in _cached_call\n",
      "    return getattr(estimator, method)(*args, **kwargs)\n",
      "           ^^^^^^^^^^^^^^^^^^^^^^^^^^^^^^^^^^^^^^^^^^^\n",
      "  File \"/usr/local/lib/python3.11/dist-packages/sklearn/linear_model/_base.py\", line 354, in predict\n",
      "    return self._decision_function(X)\n",
      "           ^^^^^^^^^^^^^^^^^^^^^^^^^^\n",
      "  File \"/usr/local/lib/python3.11/dist-packages/sklearn/linear_model/_base.py\", line 338, in _decision_function\n",
      "    return safe_sparse_dot(X, self.coef_.T, dense_output=True) + self.intercept_\n",
      "           ^^^^^^^^^^^^^^^^^^^^^^^^^^^^^^^^^^^^^^^^^^^^^^^^^^^\n",
      "  File \"/usr/local/lib/python3.11/dist-packages/sklearn/utils/extmath.py\", line 189, in safe_sparse_dot\n",
      "    ret = a @ b\n",
      "          ~~^~~\n",
      "TypeError: can't multiply sequence by non-int of type 'float'\n",
      "\n",
      "  warnings.warn(\n",
      "/usr/local/lib/python3.11/dist-packages/sklearn/model_selection/_validation.py:794: UserWarning: Scoring failed. The score on this train-test partition for these parameters will be set to nan. Details: \n",
      "Traceback (most recent call last):\n",
      "  File \"/usr/local/lib/python3.11/dist-packages/sklearn/metrics/_scorer.py\", line 115, in __call__\n",
      "    score = scorer._score(cached_call, estimator, *args, **kwargs)\n",
      "            ^^^^^^^^^^^^^^^^^^^^^^^^^^^^^^^^^^^^^^^^^^^^^^^^^^^^^^\n",
      "  File \"/usr/local/lib/python3.11/dist-packages/sklearn/metrics/_scorer.py\", line 276, in _score\n",
      "    y_pred = method_caller(estimator, \"predict\", X)\n",
      "             ^^^^^^^^^^^^^^^^^^^^^^^^^^^^^^^^^^^^^^\n",
      "  File \"/usr/local/lib/python3.11/dist-packages/sklearn/metrics/_scorer.py\", line 73, in _cached_call\n",
      "    return getattr(estimator, method)(*args, **kwargs)\n",
      "           ^^^^^^^^^^^^^^^^^^^^^^^^^^^^^^^^^^^^^^^^^^^\n",
      "  File \"/usr/local/lib/python3.11/dist-packages/sklearn/linear_model/_base.py\", line 354, in predict\n",
      "    return self._decision_function(X)\n",
      "           ^^^^^^^^^^^^^^^^^^^^^^^^^^\n",
      "  File \"/usr/local/lib/python3.11/dist-packages/sklearn/linear_model/_base.py\", line 338, in _decision_function\n",
      "    return safe_sparse_dot(X, self.coef_.T, dense_output=True) + self.intercept_\n",
      "           ^^^^^^^^^^^^^^^^^^^^^^^^^^^^^^^^^^^^^^^^^^^^^^^^^^^\n",
      "  File \"/usr/local/lib/python3.11/dist-packages/sklearn/utils/extmath.py\", line 189, in safe_sparse_dot\n",
      "    ret = a @ b\n",
      "          ~~^~~\n",
      "TypeError: can't multiply sequence by non-int of type 'float'\n",
      "\n",
      "  warnings.warn(\n",
      "/usr/local/lib/python3.11/dist-packages/sklearn/model_selection/_validation.py:794: UserWarning: Scoring failed. The score on this train-test partition for these parameters will be set to nan. Details: \n",
      "Traceback (most recent call last):\n",
      "  File \"/usr/local/lib/python3.11/dist-packages/sklearn/metrics/_scorer.py\", line 115, in __call__\n",
      "    score = scorer._score(cached_call, estimator, *args, **kwargs)\n",
      "            ^^^^^^^^^^^^^^^^^^^^^^^^^^^^^^^^^^^^^^^^^^^^^^^^^^^^^^\n",
      "  File \"/usr/local/lib/python3.11/dist-packages/sklearn/metrics/_scorer.py\", line 276, in _score\n",
      "    y_pred = method_caller(estimator, \"predict\", X)\n",
      "             ^^^^^^^^^^^^^^^^^^^^^^^^^^^^^^^^^^^^^^\n",
      "  File \"/usr/local/lib/python3.11/dist-packages/sklearn/metrics/_scorer.py\", line 73, in _cached_call\n",
      "    return getattr(estimator, method)(*args, **kwargs)\n",
      "           ^^^^^^^^^^^^^^^^^^^^^^^^^^^^^^^^^^^^^^^^^^^\n",
      "  File \"/usr/local/lib/python3.11/dist-packages/sklearn/linear_model/_base.py\", line 354, in predict\n",
      "    return self._decision_function(X)\n",
      "           ^^^^^^^^^^^^^^^^^^^^^^^^^^\n",
      "  File \"/usr/local/lib/python3.11/dist-packages/sklearn/linear_model/_base.py\", line 338, in _decision_function\n",
      "    return safe_sparse_dot(X, self.coef_.T, dense_output=True) + self.intercept_\n",
      "           ^^^^^^^^^^^^^^^^^^^^^^^^^^^^^^^^^^^^^^^^^^^^^^^^^^^\n",
      "  File \"/usr/local/lib/python3.11/dist-packages/sklearn/utils/extmath.py\", line 189, in safe_sparse_dot\n",
      "    ret = a @ b\n",
      "          ~~^~~\n",
      "TypeError: can't multiply sequence by non-int of type 'float'\n",
      "\n",
      "  warnings.warn(\n",
      "/usr/local/lib/python3.11/dist-packages/sklearn/model_selection/_validation.py:794: UserWarning: Scoring failed. The score on this train-test partition for these parameters will be set to nan. Details: \n",
      "Traceback (most recent call last):\n",
      "  File \"/usr/local/lib/python3.11/dist-packages/sklearn/metrics/_scorer.py\", line 115, in __call__\n",
      "    score = scorer._score(cached_call, estimator, *args, **kwargs)\n",
      "            ^^^^^^^^^^^^^^^^^^^^^^^^^^^^^^^^^^^^^^^^^^^^^^^^^^^^^^\n",
      "  File \"/usr/local/lib/python3.11/dist-packages/sklearn/metrics/_scorer.py\", line 276, in _score\n",
      "    y_pred = method_caller(estimator, \"predict\", X)\n",
      "             ^^^^^^^^^^^^^^^^^^^^^^^^^^^^^^^^^^^^^^\n",
      "  File \"/usr/local/lib/python3.11/dist-packages/sklearn/metrics/_scorer.py\", line 73, in _cached_call\n",
      "    return getattr(estimator, method)(*args, **kwargs)\n",
      "           ^^^^^^^^^^^^^^^^^^^^^^^^^^^^^^^^^^^^^^^^^^^\n",
      "  File \"/usr/local/lib/python3.11/dist-packages/sklearn/linear_model/_base.py\", line 354, in predict\n",
      "    return self._decision_function(X)\n",
      "           ^^^^^^^^^^^^^^^^^^^^^^^^^^\n",
      "  File \"/usr/local/lib/python3.11/dist-packages/sklearn/linear_model/_base.py\", line 338, in _decision_function\n",
      "    return safe_sparse_dot(X, self.coef_.T, dense_output=True) + self.intercept_\n",
      "           ^^^^^^^^^^^^^^^^^^^^^^^^^^^^^^^^^^^^^^^^^^^^^^^^^^^\n",
      "  File \"/usr/local/lib/python3.11/dist-packages/sklearn/utils/extmath.py\", line 189, in safe_sparse_dot\n",
      "    ret = a @ b\n",
      "          ~~^~~\n",
      "TypeError: can't multiply sequence by non-int of type 'float'\n",
      "\n",
      "  warnings.warn(\n"
     ]
    }
   ],
   "source": [
    "from sklearn.model_selection import cross_val_score\n",
    "\n",
    "scores = cross_val_score(regression, X_train, y_train, scoring='neg_mean_squared_error', cv=5)\n",
    "\n",
    "print(\"Raw scores (negative MSE):\", scores)\n",
    "print(\"MSE scores:\", -scores)  # make them positive\n"
   ]
  },
  {
   "cell_type": "code",
   "execution_count": 15,
   "id": "73841a5f",
   "metadata": {
    "execution": {
     "iopub.execute_input": "2025-09-19T19:33:23.675870Z",
     "iopub.status.busy": "2025-09-19T19:33:23.675008Z",
     "iopub.status.idle": "2025-09-19T19:33:23.681456Z",
     "shell.execute_reply": "2025-09-19T19:33:23.680583Z"
    },
    "papermill": {
     "duration": 0.025821,
     "end_time": "2025-09-19T19:33:23.682755",
     "exception": false,
     "start_time": "2025-09-19T19:33:23.656934",
     "status": "completed"
    },
    "tags": []
   },
   "outputs": [
    {
     "name": "stdout",
     "output_type": "stream",
     "text": [
      "MSE scores: [nan nan nan nan nan]\n",
      "Mean MSE: nan\n",
      "RMSE scores: [nan nan nan nan nan]\n",
      "Mean RMSE: nan\n"
     ]
    }
   ],
   "source": [
    "mse_scores = -scores\n",
    "rmse_scores = np.sqrt(mse_scores)\n",
    "\n",
    "print(\"MSE scores:\", mse_scores)\n",
    "print(\"Mean MSE:\", mse_scores.mean())\n",
    "print(\"RMSE scores:\", rmse_scores)\n",
    "print(\"Mean RMSE:\", rmse_scores.mean())"
   ]
  },
  {
   "cell_type": "code",
   "execution_count": null,
   "id": "4fcbf1f5",
   "metadata": {
    "papermill": {
     "duration": 0.016974,
     "end_time": "2025-09-19T19:33:23.716886",
     "exception": false,
     "start_time": "2025-09-19T19:33:23.699912",
     "status": "completed"
    },
    "tags": []
   },
   "outputs": [],
   "source": []
  },
  {
   "cell_type": "code",
   "execution_count": null,
   "id": "aa12651e",
   "metadata": {
    "papermill": {
     "duration": 0.016428,
     "end_time": "2025-09-19T19:33:23.750044",
     "exception": false,
     "start_time": "2025-09-19T19:33:23.733616",
     "status": "completed"
    },
    "tags": []
   },
   "outputs": [],
   "source": []
  },
  {
   "cell_type": "code",
   "execution_count": null,
   "id": "f406e6bd",
   "metadata": {
    "papermill": {
     "duration": 0.016505,
     "end_time": "2025-09-19T19:33:23.783171",
     "exception": false,
     "start_time": "2025-09-19T19:33:23.766666",
     "status": "completed"
    },
    "tags": []
   },
   "outputs": [],
   "source": []
  },
  {
   "cell_type": "code",
   "execution_count": null,
   "id": "39942013",
   "metadata": {
    "papermill": {
     "duration": 0.016515,
     "end_time": "2025-09-19T19:33:23.816321",
     "exception": false,
     "start_time": "2025-09-19T19:33:23.799806",
     "status": "completed"
    },
    "tags": []
   },
   "outputs": [],
   "source": []
  },
  {
   "cell_type": "code",
   "execution_count": null,
   "id": "213476c9",
   "metadata": {
    "papermill": {
     "duration": 0.016516,
     "end_time": "2025-09-19T19:33:23.849718",
     "exception": false,
     "start_time": "2025-09-19T19:33:23.833202",
     "status": "completed"
    },
    "tags": []
   },
   "outputs": [],
   "source": []
  },
  {
   "cell_type": "code",
   "execution_count": null,
   "id": "55b8dac8",
   "metadata": {
    "papermill": {
     "duration": 0.016652,
     "end_time": "2025-09-19T19:33:23.883173",
     "exception": false,
     "start_time": "2025-09-19T19:33:23.866521",
     "status": "completed"
    },
    "tags": []
   },
   "outputs": [],
   "source": []
  },
  {
   "cell_type": "code",
   "execution_count": null,
   "id": "dbd97df9",
   "metadata": {
    "papermill": {
     "duration": 0.016649,
     "end_time": "2025-09-19T19:33:23.916345",
     "exception": false,
     "start_time": "2025-09-19T19:33:23.899696",
     "status": "completed"
    },
    "tags": []
   },
   "outputs": [],
   "source": []
  },
  {
   "cell_type": "code",
   "execution_count": null,
   "id": "edb91282",
   "metadata": {
    "papermill": {
     "duration": 0.016623,
     "end_time": "2025-09-19T19:33:23.949759",
     "exception": false,
     "start_time": "2025-09-19T19:33:23.933136",
     "status": "completed"
    },
    "tags": []
   },
   "outputs": [],
   "source": []
  },
  {
   "cell_type": "code",
   "execution_count": null,
   "id": "174b623d",
   "metadata": {
    "papermill": {
     "duration": 0.016467,
     "end_time": "2025-09-19T19:33:23.982819",
     "exception": false,
     "start_time": "2025-09-19T19:33:23.966352",
     "status": "completed"
    },
    "tags": []
   },
   "outputs": [],
   "source": []
  },
  {
   "cell_type": "code",
   "execution_count": null,
   "id": "b96c5cbe",
   "metadata": {
    "papermill": {
     "duration": 0.017312,
     "end_time": "2025-09-19T19:33:24.016620",
     "exception": false,
     "start_time": "2025-09-19T19:33:23.999308",
     "status": "completed"
    },
    "tags": []
   },
   "outputs": [],
   "source": []
  },
  {
   "cell_type": "code",
   "execution_count": null,
   "id": "cfe38804",
   "metadata": {
    "papermill": {
     "duration": 0.016637,
     "end_time": "2025-09-19T19:33:24.050028",
     "exception": false,
     "start_time": "2025-09-19T19:33:24.033391",
     "status": "completed"
    },
    "tags": []
   },
   "outputs": [],
   "source": []
  },
  {
   "cell_type": "code",
   "execution_count": null,
   "id": "462f96cb",
   "metadata": {
    "papermill": {
     "duration": 0.016934,
     "end_time": "2025-09-19T19:33:24.083522",
     "exception": false,
     "start_time": "2025-09-19T19:33:24.066588",
     "status": "completed"
    },
    "tags": []
   },
   "outputs": [],
   "source": []
  },
  {
   "cell_type": "code",
   "execution_count": null,
   "id": "aef7075c",
   "metadata": {
    "papermill": {
     "duration": 0.016429,
     "end_time": "2025-09-19T19:33:24.116892",
     "exception": false,
     "start_time": "2025-09-19T19:33:24.100463",
     "status": "completed"
    },
    "tags": []
   },
   "outputs": [],
   "source": []
  },
  {
   "cell_type": "code",
   "execution_count": null,
   "id": "e97c04ac",
   "metadata": {
    "papermill": {
     "duration": 0.016491,
     "end_time": "2025-09-19T19:33:24.150407",
     "exception": false,
     "start_time": "2025-09-19T19:33:24.133916",
     "status": "completed"
    },
    "tags": []
   },
   "outputs": [],
   "source": []
  },
  {
   "cell_type": "code",
   "execution_count": null,
   "id": "e71cf513",
   "metadata": {
    "papermill": {
     "duration": 0.016628,
     "end_time": "2025-09-19T19:33:24.184031",
     "exception": false,
     "start_time": "2025-09-19T19:33:24.167403",
     "status": "completed"
    },
    "tags": []
   },
   "outputs": [],
   "source": []
  },
  {
   "cell_type": "code",
   "execution_count": null,
   "id": "aead8280",
   "metadata": {
    "papermill": {
     "duration": 0.016518,
     "end_time": "2025-09-19T19:33:24.217617",
     "exception": false,
     "start_time": "2025-09-19T19:33:24.201099",
     "status": "completed"
    },
    "tags": []
   },
   "outputs": [],
   "source": []
  },
  {
   "cell_type": "code",
   "execution_count": null,
   "id": "96f15e93",
   "metadata": {
    "papermill": {
     "duration": 0.016568,
     "end_time": "2025-09-19T19:33:24.250971",
     "exception": false,
     "start_time": "2025-09-19T19:33:24.234403",
     "status": "completed"
    },
    "tags": []
   },
   "outputs": [],
   "source": []
  },
  {
   "cell_type": "code",
   "execution_count": null,
   "id": "c73ae9d2",
   "metadata": {
    "papermill": {
     "duration": 0.016592,
     "end_time": "2025-09-19T19:33:24.284233",
     "exception": false,
     "start_time": "2025-09-19T19:33:24.267641",
     "status": "completed"
    },
    "tags": []
   },
   "outputs": [],
   "source": []
  },
  {
   "cell_type": "code",
   "execution_count": null,
   "id": "12f9abdb",
   "metadata": {
    "papermill": {
     "duration": 0.016435,
     "end_time": "2025-09-19T19:33:24.317355",
     "exception": false,
     "start_time": "2025-09-19T19:33:24.300920",
     "status": "completed"
    },
    "tags": []
   },
   "outputs": [],
   "source": []
  },
  {
   "cell_type": "code",
   "execution_count": null,
   "id": "9aa3a21e",
   "metadata": {
    "papermill": {
     "duration": 0.016935,
     "end_time": "2025-09-19T19:33:24.352343",
     "exception": false,
     "start_time": "2025-09-19T19:33:24.335408",
     "status": "completed"
    },
    "tags": []
   },
   "outputs": [],
   "source": []
  },
  {
   "cell_type": "code",
   "execution_count": null,
   "id": "196c9cc0",
   "metadata": {
    "papermill": {
     "duration": 0.016483,
     "end_time": "2025-09-19T19:33:24.385434",
     "exception": false,
     "start_time": "2025-09-19T19:33:24.368951",
     "status": "completed"
    },
    "tags": []
   },
   "outputs": [],
   "source": []
  },
  {
   "cell_type": "code",
   "execution_count": null,
   "id": "7d7130e2",
   "metadata": {
    "papermill": {
     "duration": 0.016732,
     "end_time": "2025-09-19T19:33:24.418868",
     "exception": false,
     "start_time": "2025-09-19T19:33:24.402136",
     "status": "completed"
    },
    "tags": []
   },
   "outputs": [],
   "source": []
  },
  {
   "cell_type": "code",
   "execution_count": null,
   "id": "acee4e70",
   "metadata": {
    "papermill": {
     "duration": 0.016513,
     "end_time": "2025-09-19T19:33:24.452573",
     "exception": false,
     "start_time": "2025-09-19T19:33:24.436060",
     "status": "completed"
    },
    "tags": []
   },
   "outputs": [],
   "source": []
  },
  {
   "cell_type": "code",
   "execution_count": null,
   "id": "6161ba70",
   "metadata": {
    "papermill": {
     "duration": 0.016499,
     "end_time": "2025-09-19T19:33:24.485648",
     "exception": false,
     "start_time": "2025-09-19T19:33:24.469149",
     "status": "completed"
    },
    "tags": []
   },
   "outputs": [],
   "source": []
  },
  {
   "cell_type": "code",
   "execution_count": null,
   "id": "37e54d7e",
   "metadata": {
    "papermill": {
     "duration": 0.016738,
     "end_time": "2025-09-19T19:33:24.518880",
     "exception": false,
     "start_time": "2025-09-19T19:33:24.502142",
     "status": "completed"
    },
    "tags": []
   },
   "outputs": [],
   "source": []
  },
  {
   "cell_type": "code",
   "execution_count": null,
   "id": "5d94f056",
   "metadata": {
    "papermill": {
     "duration": 0.016515,
     "end_time": "2025-09-19T19:33:24.552430",
     "exception": false,
     "start_time": "2025-09-19T19:33:24.535915",
     "status": "completed"
    },
    "tags": []
   },
   "outputs": [],
   "source": []
  },
  {
   "cell_type": "code",
   "execution_count": null,
   "id": "2b0f390e",
   "metadata": {
    "papermill": {
     "duration": 0.016978,
     "end_time": "2025-09-19T19:33:24.586559",
     "exception": false,
     "start_time": "2025-09-19T19:33:24.569581",
     "status": "completed"
    },
    "tags": []
   },
   "outputs": [],
   "source": []
  },
  {
   "cell_type": "code",
   "execution_count": null,
   "id": "20072ed4",
   "metadata": {
    "papermill": {
     "duration": 0.016526,
     "end_time": "2025-09-19T19:33:24.619923",
     "exception": false,
     "start_time": "2025-09-19T19:33:24.603397",
     "status": "completed"
    },
    "tags": []
   },
   "outputs": [],
   "source": []
  },
  {
   "cell_type": "code",
   "execution_count": null,
   "id": "cab49165",
   "metadata": {
    "papermill": {
     "duration": 0.017656,
     "end_time": "2025-09-19T19:33:24.656028",
     "exception": false,
     "start_time": "2025-09-19T19:33:24.638372",
     "status": "completed"
    },
    "tags": []
   },
   "outputs": [],
   "source": []
  },
  {
   "cell_type": "code",
   "execution_count": null,
   "id": "a04c72d0",
   "metadata": {
    "papermill": {
     "duration": 0.016666,
     "end_time": "2025-09-19T19:33:24.689681",
     "exception": false,
     "start_time": "2025-09-19T19:33:24.673015",
     "status": "completed"
    },
    "tags": []
   },
   "outputs": [],
   "source": []
  },
  {
   "cell_type": "code",
   "execution_count": null,
   "id": "ffa055f6",
   "metadata": {
    "papermill": {
     "duration": 0.016898,
     "end_time": "2025-09-19T19:33:24.723920",
     "exception": false,
     "start_time": "2025-09-19T19:33:24.707022",
     "status": "completed"
    },
    "tags": []
   },
   "outputs": [],
   "source": []
  },
  {
   "cell_type": "code",
   "execution_count": null,
   "id": "6643ac05",
   "metadata": {
    "papermill": {
     "duration": 0.016682,
     "end_time": "2025-09-19T19:33:24.757291",
     "exception": false,
     "start_time": "2025-09-19T19:33:24.740609",
     "status": "completed"
    },
    "tags": []
   },
   "outputs": [],
   "source": []
  },
  {
   "cell_type": "code",
   "execution_count": null,
   "id": "2e8cd403",
   "metadata": {
    "papermill": {
     "duration": 0.016715,
     "end_time": "2025-09-19T19:33:24.790961",
     "exception": false,
     "start_time": "2025-09-19T19:33:24.774246",
     "status": "completed"
    },
    "tags": []
   },
   "outputs": [],
   "source": []
  },
  {
   "cell_type": "code",
   "execution_count": null,
   "id": "069b7df4",
   "metadata": {
    "papermill": {
     "duration": 0.017771,
     "end_time": "2025-09-19T19:33:24.825839",
     "exception": false,
     "start_time": "2025-09-19T19:33:24.808068",
     "status": "completed"
    },
    "tags": []
   },
   "outputs": [],
   "source": []
  },
  {
   "cell_type": "code",
   "execution_count": null,
   "id": "f73cbab3",
   "metadata": {
    "papermill": {
     "duration": 0.01767,
     "end_time": "2025-09-19T19:33:24.861004",
     "exception": false,
     "start_time": "2025-09-19T19:33:24.843334",
     "status": "completed"
    },
    "tags": []
   },
   "outputs": [],
   "source": []
  },
  {
   "cell_type": "code",
   "execution_count": null,
   "id": "ca503442",
   "metadata": {
    "papermill": {
     "duration": 0.016934,
     "end_time": "2025-09-19T19:33:24.894819",
     "exception": false,
     "start_time": "2025-09-19T19:33:24.877885",
     "status": "completed"
    },
    "tags": []
   },
   "outputs": [],
   "source": []
  },
  {
   "cell_type": "code",
   "execution_count": null,
   "id": "b0982ea6",
   "metadata": {
    "papermill": {
     "duration": 0.016438,
     "end_time": "2025-09-19T19:33:24.927962",
     "exception": false,
     "start_time": "2025-09-19T19:33:24.911524",
     "status": "completed"
    },
    "tags": []
   },
   "outputs": [],
   "source": []
  },
  {
   "cell_type": "code",
   "execution_count": null,
   "id": "a4368f87",
   "metadata": {
    "papermill": {
     "duration": 0.016451,
     "end_time": "2025-09-19T19:33:24.961146",
     "exception": false,
     "start_time": "2025-09-19T19:33:24.944695",
     "status": "completed"
    },
    "tags": []
   },
   "outputs": [],
   "source": []
  },
  {
   "cell_type": "code",
   "execution_count": null,
   "id": "33ee2e24",
   "metadata": {
    "papermill": {
     "duration": 0.017517,
     "end_time": "2025-09-19T19:33:24.995232",
     "exception": false,
     "start_time": "2025-09-19T19:33:24.977715",
     "status": "completed"
    },
    "tags": []
   },
   "outputs": [],
   "source": []
  },
  {
   "cell_type": "code",
   "execution_count": null,
   "id": "5a295b64",
   "metadata": {
    "papermill": {
     "duration": 0.017686,
     "end_time": "2025-09-19T19:33:25.029824",
     "exception": false,
     "start_time": "2025-09-19T19:33:25.012138",
     "status": "completed"
    },
    "tags": []
   },
   "outputs": [],
   "source": []
  },
  {
   "cell_type": "code",
   "execution_count": null,
   "id": "297bd87d",
   "metadata": {
    "papermill": {
     "duration": 0.01657,
     "end_time": "2025-09-19T19:33:25.063261",
     "exception": false,
     "start_time": "2025-09-19T19:33:25.046691",
     "status": "completed"
    },
    "tags": []
   },
   "outputs": [],
   "source": []
  },
  {
   "cell_type": "code",
   "execution_count": null,
   "id": "e17695fe",
   "metadata": {
    "papermill": {
     "duration": 0.016629,
     "end_time": "2025-09-19T19:33:25.096985",
     "exception": false,
     "start_time": "2025-09-19T19:33:25.080356",
     "status": "completed"
    },
    "tags": []
   },
   "outputs": [],
   "source": []
  },
  {
   "cell_type": "code",
   "execution_count": null,
   "id": "56866046",
   "metadata": {
    "papermill": {
     "duration": 0.016434,
     "end_time": "2025-09-19T19:33:25.130061",
     "exception": false,
     "start_time": "2025-09-19T19:33:25.113627",
     "status": "completed"
    },
    "tags": []
   },
   "outputs": [],
   "source": []
  },
  {
   "cell_type": "code",
   "execution_count": null,
   "id": "b271c13c",
   "metadata": {
    "papermill": {
     "duration": 0.016622,
     "end_time": "2025-09-19T19:33:25.164182",
     "exception": false,
     "start_time": "2025-09-19T19:33:25.147560",
     "status": "completed"
    },
    "tags": []
   },
   "outputs": [],
   "source": []
  },
  {
   "cell_type": "code",
   "execution_count": null,
   "id": "af330b80",
   "metadata": {
    "papermill": {
     "duration": 0.016564,
     "end_time": "2025-09-19T19:33:25.197541",
     "exception": false,
     "start_time": "2025-09-19T19:33:25.180977",
     "status": "completed"
    },
    "tags": []
   },
   "outputs": [],
   "source": []
  },
  {
   "cell_type": "code",
   "execution_count": null,
   "id": "8b2fd4cc",
   "metadata": {
    "papermill": {
     "duration": 0.01652,
     "end_time": "2025-09-19T19:33:25.230769",
     "exception": false,
     "start_time": "2025-09-19T19:33:25.214249",
     "status": "completed"
    },
    "tags": []
   },
   "outputs": [],
   "source": []
  },
  {
   "cell_type": "code",
   "execution_count": null,
   "id": "9440ea82",
   "metadata": {
    "papermill": {
     "duration": 0.016592,
     "end_time": "2025-09-19T19:33:25.263991",
     "exception": false,
     "start_time": "2025-09-19T19:33:25.247399",
     "status": "completed"
    },
    "tags": []
   },
   "outputs": [],
   "source": []
  },
  {
   "cell_type": "code",
   "execution_count": null,
   "id": "a1623eb0",
   "metadata": {
    "papermill": {
     "duration": 0.017067,
     "end_time": "2025-09-19T19:33:25.297770",
     "exception": false,
     "start_time": "2025-09-19T19:33:25.280703",
     "status": "completed"
    },
    "tags": []
   },
   "outputs": [],
   "source": []
  },
  {
   "cell_type": "code",
   "execution_count": null,
   "id": "cf436912",
   "metadata": {
    "papermill": {
     "duration": 0.016475,
     "end_time": "2025-09-19T19:33:25.330977",
     "exception": false,
     "start_time": "2025-09-19T19:33:25.314502",
     "status": "completed"
    },
    "tags": []
   },
   "outputs": [],
   "source": []
  },
  {
   "cell_type": "code",
   "execution_count": null,
   "id": "59e7f7ac",
   "metadata": {
    "papermill": {
     "duration": 0.016655,
     "end_time": "2025-09-19T19:33:25.366416",
     "exception": false,
     "start_time": "2025-09-19T19:33:25.349761",
     "status": "completed"
    },
    "tags": []
   },
   "outputs": [],
   "source": []
  },
  {
   "cell_type": "code",
   "execution_count": null,
   "id": "dc956893",
   "metadata": {
    "papermill": {
     "duration": 0.016769,
     "end_time": "2025-09-19T19:33:25.400960",
     "exception": false,
     "start_time": "2025-09-19T19:33:25.384191",
     "status": "completed"
    },
    "tags": []
   },
   "outputs": [],
   "source": []
  },
  {
   "cell_type": "code",
   "execution_count": null,
   "id": "4353ebe8",
   "metadata": {
    "papermill": {
     "duration": 0.016414,
     "end_time": "2025-09-19T19:33:25.434006",
     "exception": false,
     "start_time": "2025-09-19T19:33:25.417592",
     "status": "completed"
    },
    "tags": []
   },
   "outputs": [],
   "source": []
  },
  {
   "cell_type": "code",
   "execution_count": null,
   "id": "85405291",
   "metadata": {
    "papermill": {
     "duration": 0.016715,
     "end_time": "2025-09-19T19:33:25.467398",
     "exception": false,
     "start_time": "2025-09-19T19:33:25.450683",
     "status": "completed"
    },
    "tags": []
   },
   "outputs": [],
   "source": []
  },
  {
   "cell_type": "code",
   "execution_count": null,
   "id": "6e71d678",
   "metadata": {
    "papermill": {
     "duration": 0.016638,
     "end_time": "2025-09-19T19:33:25.501496",
     "exception": false,
     "start_time": "2025-09-19T19:33:25.484858",
     "status": "completed"
    },
    "tags": []
   },
   "outputs": [],
   "source": []
  },
  {
   "cell_type": "code",
   "execution_count": null,
   "id": "4ab2e9c3",
   "metadata": {
    "papermill": {
     "duration": 0.01653,
     "end_time": "2025-09-19T19:33:25.535291",
     "exception": false,
     "start_time": "2025-09-19T19:33:25.518761",
     "status": "completed"
    },
    "tags": []
   },
   "outputs": [],
   "source": []
  },
  {
   "cell_type": "code",
   "execution_count": null,
   "id": "04d0d090",
   "metadata": {
    "papermill": {
     "duration": 0.016327,
     "end_time": "2025-09-19T19:33:25.568345",
     "exception": false,
     "start_time": "2025-09-19T19:33:25.552018",
     "status": "completed"
    },
    "tags": []
   },
   "outputs": [],
   "source": []
  },
  {
   "cell_type": "code",
   "execution_count": null,
   "id": "4e59c319",
   "metadata": {
    "papermill": {
     "duration": 0.01716,
     "end_time": "2025-09-19T19:33:25.602191",
     "exception": false,
     "start_time": "2025-09-19T19:33:25.585031",
     "status": "completed"
    },
    "tags": []
   },
   "outputs": [],
   "source": []
  },
  {
   "cell_type": "code",
   "execution_count": null,
   "id": "2c598a5c",
   "metadata": {
    "papermill": {
     "duration": 0.016553,
     "end_time": "2025-09-19T19:33:25.635464",
     "exception": false,
     "start_time": "2025-09-19T19:33:25.618911",
     "status": "completed"
    },
    "tags": []
   },
   "outputs": [],
   "source": []
  },
  {
   "cell_type": "code",
   "execution_count": null,
   "id": "9e0d77a0",
   "metadata": {
    "papermill": {
     "duration": 0.016478,
     "end_time": "2025-09-19T19:33:25.669673",
     "exception": false,
     "start_time": "2025-09-19T19:33:25.653195",
     "status": "completed"
    },
    "tags": []
   },
   "outputs": [],
   "source": []
  },
  {
   "cell_type": "code",
   "execution_count": null,
   "id": "e947386c",
   "metadata": {
    "papermill": {
     "duration": 0.016657,
     "end_time": "2025-09-19T19:33:25.703218",
     "exception": false,
     "start_time": "2025-09-19T19:33:25.686561",
     "status": "completed"
    },
    "tags": []
   },
   "outputs": [],
   "source": []
  },
  {
   "cell_type": "code",
   "execution_count": null,
   "id": "e58c1c5d",
   "metadata": {
    "papermill": {
     "duration": 0.016439,
     "end_time": "2025-09-19T19:33:25.736518",
     "exception": false,
     "start_time": "2025-09-19T19:33:25.720079",
     "status": "completed"
    },
    "tags": []
   },
   "outputs": [],
   "source": []
  },
  {
   "cell_type": "code",
   "execution_count": null,
   "id": "bf179de9",
   "metadata": {
    "papermill": {
     "duration": 0.016469,
     "end_time": "2025-09-19T19:33:25.769719",
     "exception": false,
     "start_time": "2025-09-19T19:33:25.753250",
     "status": "completed"
    },
    "tags": []
   },
   "outputs": [],
   "source": []
  },
  {
   "cell_type": "code",
   "execution_count": null,
   "id": "08545961",
   "metadata": {
    "papermill": {
     "duration": 0.016561,
     "end_time": "2025-09-19T19:33:25.802960",
     "exception": false,
     "start_time": "2025-09-19T19:33:25.786399",
     "status": "completed"
    },
    "tags": []
   },
   "outputs": [],
   "source": []
  },
  {
   "cell_type": "code",
   "execution_count": null,
   "id": "0557410c",
   "metadata": {
    "papermill": {
     "duration": 0.016776,
     "end_time": "2025-09-19T19:33:25.836405",
     "exception": false,
     "start_time": "2025-09-19T19:33:25.819629",
     "status": "completed"
    },
    "tags": []
   },
   "outputs": [],
   "source": []
  },
  {
   "cell_type": "code",
   "execution_count": null,
   "id": "e2c26288",
   "metadata": {
    "papermill": {
     "duration": 0.016419,
     "end_time": "2025-09-19T19:33:25.869665",
     "exception": false,
     "start_time": "2025-09-19T19:33:25.853246",
     "status": "completed"
    },
    "tags": []
   },
   "outputs": [],
   "source": []
  },
  {
   "cell_type": "code",
   "execution_count": null,
   "id": "8a0dd48e",
   "metadata": {
    "papermill": {
     "duration": 0.017084,
     "end_time": "2025-09-19T19:33:25.903532",
     "exception": false,
     "start_time": "2025-09-19T19:33:25.886448",
     "status": "completed"
    },
    "tags": []
   },
   "outputs": [],
   "source": []
  },
  {
   "cell_type": "code",
   "execution_count": null,
   "id": "7762bfcf",
   "metadata": {
    "papermill": {
     "duration": 0.016701,
     "end_time": "2025-09-19T19:33:25.937293",
     "exception": false,
     "start_time": "2025-09-19T19:33:25.920592",
     "status": "completed"
    },
    "tags": []
   },
   "outputs": [],
   "source": []
  },
  {
   "cell_type": "code",
   "execution_count": null,
   "id": "fcba5015",
   "metadata": {
    "papermill": {
     "duration": 0.016607,
     "end_time": "2025-09-19T19:33:25.970651",
     "exception": false,
     "start_time": "2025-09-19T19:33:25.954044",
     "status": "completed"
    },
    "tags": []
   },
   "outputs": [],
   "source": []
  },
  {
   "cell_type": "code",
   "execution_count": null,
   "id": "17e64494",
   "metadata": {
    "papermill": {
     "duration": 0.016834,
     "end_time": "2025-09-19T19:33:26.004168",
     "exception": false,
     "start_time": "2025-09-19T19:33:25.987334",
     "status": "completed"
    },
    "tags": []
   },
   "outputs": [],
   "source": []
  },
  {
   "cell_type": "code",
   "execution_count": null,
   "id": "af45ca97",
   "metadata": {
    "papermill": {
     "duration": 0.017477,
     "end_time": "2025-09-19T19:33:26.039191",
     "exception": false,
     "start_time": "2025-09-19T19:33:26.021714",
     "status": "completed"
    },
    "tags": []
   },
   "outputs": [],
   "source": []
  },
  {
   "cell_type": "code",
   "execution_count": null,
   "id": "344fa748",
   "metadata": {
    "papermill": {
     "duration": 0.016967,
     "end_time": "2025-09-19T19:33:26.073414",
     "exception": false,
     "start_time": "2025-09-19T19:33:26.056447",
     "status": "completed"
    },
    "tags": []
   },
   "outputs": [],
   "source": []
  },
  {
   "cell_type": "code",
   "execution_count": null,
   "id": "119b2b8f",
   "metadata": {
    "papermill": {
     "duration": 0.016917,
     "end_time": "2025-09-19T19:33:26.107294",
     "exception": false,
     "start_time": "2025-09-19T19:33:26.090377",
     "status": "completed"
    },
    "tags": []
   },
   "outputs": [],
   "source": []
  },
  {
   "cell_type": "code",
   "execution_count": null,
   "id": "e1596838",
   "metadata": {
    "papermill": {
     "duration": 0.016892,
     "end_time": "2025-09-19T19:33:26.141335",
     "exception": false,
     "start_time": "2025-09-19T19:33:26.124443",
     "status": "completed"
    },
    "tags": []
   },
   "outputs": [],
   "source": []
  },
  {
   "cell_type": "code",
   "execution_count": null,
   "id": "e5750880",
   "metadata": {
    "papermill": {
     "duration": 0.018199,
     "end_time": "2025-09-19T19:33:26.176485",
     "exception": false,
     "start_time": "2025-09-19T19:33:26.158286",
     "status": "completed"
    },
    "tags": []
   },
   "outputs": [],
   "source": []
  },
  {
   "cell_type": "code",
   "execution_count": null,
   "id": "97d755df",
   "metadata": {
    "papermill": {
     "duration": 0.016623,
     "end_time": "2025-09-19T19:33:26.210158",
     "exception": false,
     "start_time": "2025-09-19T19:33:26.193535",
     "status": "completed"
    },
    "tags": []
   },
   "outputs": [],
   "source": []
  },
  {
   "cell_type": "code",
   "execution_count": null,
   "id": "cf2b092d",
   "metadata": {
    "papermill": {
     "duration": 0.016586,
     "end_time": "2025-09-19T19:33:26.243622",
     "exception": false,
     "start_time": "2025-09-19T19:33:26.227036",
     "status": "completed"
    },
    "tags": []
   },
   "outputs": [],
   "source": []
  },
  {
   "cell_type": "code",
   "execution_count": null,
   "id": "bec05577",
   "metadata": {
    "papermill": {
     "duration": 0.020295,
     "end_time": "2025-09-19T19:33:26.280757",
     "exception": false,
     "start_time": "2025-09-19T19:33:26.260462",
     "status": "completed"
    },
    "tags": []
   },
   "outputs": [],
   "source": []
  },
  {
   "cell_type": "code",
   "execution_count": null,
   "id": "a1459f30",
   "metadata": {
    "papermill": {
     "duration": 0.017002,
     "end_time": "2025-09-19T19:33:26.315242",
     "exception": false,
     "start_time": "2025-09-19T19:33:26.298240",
     "status": "completed"
    },
    "tags": []
   },
   "outputs": [],
   "source": []
  },
  {
   "cell_type": "code",
   "execution_count": null,
   "id": "1ac1bb97",
   "metadata": {
    "papermill": {
     "duration": 0.019022,
     "end_time": "2025-09-19T19:33:26.351114",
     "exception": false,
     "start_time": "2025-09-19T19:33:26.332092",
     "status": "completed"
    },
    "tags": []
   },
   "outputs": [],
   "source": []
  },
  {
   "cell_type": "code",
   "execution_count": null,
   "id": "72a0ce1d",
   "metadata": {
    "papermill": {
     "duration": 0.016505,
     "end_time": "2025-09-19T19:33:26.384678",
     "exception": false,
     "start_time": "2025-09-19T19:33:26.368173",
     "status": "completed"
    },
    "tags": []
   },
   "outputs": [],
   "source": []
  },
  {
   "cell_type": "code",
   "execution_count": null,
   "id": "81658f2f",
   "metadata": {
    "papermill": {
     "duration": 0.022061,
     "end_time": "2025-09-19T19:33:26.427795",
     "exception": false,
     "start_time": "2025-09-19T19:33:26.405734",
     "status": "completed"
    },
    "tags": []
   },
   "outputs": [],
   "source": []
  },
  {
   "cell_type": "code",
   "execution_count": null,
   "id": "2823f36c",
   "metadata": {
    "papermill": {
     "duration": 0.022451,
     "end_time": "2025-09-19T19:33:26.471721",
     "exception": false,
     "start_time": "2025-09-19T19:33:26.449270",
     "status": "completed"
    },
    "tags": []
   },
   "outputs": [],
   "source": []
  },
  {
   "cell_type": "code",
   "execution_count": null,
   "id": "85b29e60",
   "metadata": {
    "papermill": {
     "duration": 0.019384,
     "end_time": "2025-09-19T19:33:26.512277",
     "exception": false,
     "start_time": "2025-09-19T19:33:26.492893",
     "status": "completed"
    },
    "tags": []
   },
   "outputs": [],
   "source": []
  },
  {
   "cell_type": "code",
   "execution_count": null,
   "id": "6fda4bc0",
   "metadata": {
    "papermill": {
     "duration": 0.017405,
     "end_time": "2025-09-19T19:33:26.546937",
     "exception": false,
     "start_time": "2025-09-19T19:33:26.529532",
     "status": "completed"
    },
    "tags": []
   },
   "outputs": [],
   "source": []
  },
  {
   "cell_type": "code",
   "execution_count": null,
   "id": "3a1aefaa",
   "metadata": {
    "papermill": {
     "duration": 0.016816,
     "end_time": "2025-09-19T19:33:26.581173",
     "exception": false,
     "start_time": "2025-09-19T19:33:26.564357",
     "status": "completed"
    },
    "tags": []
   },
   "outputs": [],
   "source": []
  },
  {
   "cell_type": "code",
   "execution_count": null,
   "id": "ffb9c9bb",
   "metadata": {
    "papermill": {
     "duration": 0.017466,
     "end_time": "2025-09-19T19:33:26.615537",
     "exception": false,
     "start_time": "2025-09-19T19:33:26.598071",
     "status": "completed"
    },
    "tags": []
   },
   "outputs": [],
   "source": []
  },
  {
   "cell_type": "code",
   "execution_count": null,
   "id": "62b27c36",
   "metadata": {
    "papermill": {
     "duration": 0.01671,
     "end_time": "2025-09-19T19:33:26.649180",
     "exception": false,
     "start_time": "2025-09-19T19:33:26.632470",
     "status": "completed"
    },
    "tags": []
   },
   "outputs": [],
   "source": []
  },
  {
   "cell_type": "code",
   "execution_count": null,
   "id": "4024a38f",
   "metadata": {
    "papermill": {
     "duration": 0.017392,
     "end_time": "2025-09-19T19:33:26.683327",
     "exception": false,
     "start_time": "2025-09-19T19:33:26.665935",
     "status": "completed"
    },
    "tags": []
   },
   "outputs": [],
   "source": []
  },
  {
   "cell_type": "code",
   "execution_count": null,
   "id": "73f95806",
   "metadata": {
    "papermill": {
     "duration": 0.01682,
     "end_time": "2025-09-19T19:33:26.717068",
     "exception": false,
     "start_time": "2025-09-19T19:33:26.700248",
     "status": "completed"
    },
    "tags": []
   },
   "outputs": [],
   "source": []
  },
  {
   "cell_type": "code",
   "execution_count": null,
   "id": "4f05889d",
   "metadata": {
    "papermill": {
     "duration": 0.016658,
     "end_time": "2025-09-19T19:33:26.750686",
     "exception": false,
     "start_time": "2025-09-19T19:33:26.734028",
     "status": "completed"
    },
    "tags": []
   },
   "outputs": [],
   "source": []
  },
  {
   "cell_type": "code",
   "execution_count": null,
   "id": "1f42566d",
   "metadata": {
    "papermill": {
     "duration": 0.016606,
     "end_time": "2025-09-19T19:33:26.783992",
     "exception": false,
     "start_time": "2025-09-19T19:33:26.767386",
     "status": "completed"
    },
    "tags": []
   },
   "outputs": [],
   "source": []
  },
  {
   "cell_type": "code",
   "execution_count": null,
   "id": "d4774fb3",
   "metadata": {
    "papermill": {
     "duration": 0.01652,
     "end_time": "2025-09-19T19:33:26.817329",
     "exception": false,
     "start_time": "2025-09-19T19:33:26.800809",
     "status": "completed"
    },
    "tags": []
   },
   "outputs": [],
   "source": []
  },
  {
   "cell_type": "code",
   "execution_count": null,
   "id": "50d6d770",
   "metadata": {
    "papermill": {
     "duration": 0.016487,
     "end_time": "2025-09-19T19:33:26.850675",
     "exception": false,
     "start_time": "2025-09-19T19:33:26.834188",
     "status": "completed"
    },
    "tags": []
   },
   "outputs": [],
   "source": []
  },
  {
   "cell_type": "code",
   "execution_count": null,
   "id": "cf041c2d",
   "metadata": {
    "papermill": {
     "duration": 0.016625,
     "end_time": "2025-09-19T19:33:26.884391",
     "exception": false,
     "start_time": "2025-09-19T19:33:26.867766",
     "status": "completed"
    },
    "tags": []
   },
   "outputs": [],
   "source": []
  },
  {
   "cell_type": "code",
   "execution_count": null,
   "id": "6ec448c9",
   "metadata": {
    "papermill": {
     "duration": 0.016556,
     "end_time": "2025-09-19T19:33:26.918495",
     "exception": false,
     "start_time": "2025-09-19T19:33:26.901939",
     "status": "completed"
    },
    "tags": []
   },
   "outputs": [],
   "source": []
  },
  {
   "cell_type": "code",
   "execution_count": null,
   "id": "f2031c19",
   "metadata": {
    "papermill": {
     "duration": 0.016735,
     "end_time": "2025-09-19T19:33:26.952137",
     "exception": false,
     "start_time": "2025-09-19T19:33:26.935402",
     "status": "completed"
    },
    "tags": []
   },
   "outputs": [],
   "source": []
  },
  {
   "cell_type": "code",
   "execution_count": null,
   "id": "0caf1146",
   "metadata": {
    "papermill": {
     "duration": 0.016576,
     "end_time": "2025-09-19T19:33:26.985746",
     "exception": false,
     "start_time": "2025-09-19T19:33:26.969170",
     "status": "completed"
    },
    "tags": []
   },
   "outputs": [],
   "source": []
  },
  {
   "cell_type": "code",
   "execution_count": null,
   "id": "396713f8",
   "metadata": {
    "papermill": {
     "duration": 0.016597,
     "end_time": "2025-09-19T19:33:27.019109",
     "exception": false,
     "start_time": "2025-09-19T19:33:27.002512",
     "status": "completed"
    },
    "tags": []
   },
   "outputs": [],
   "source": []
  },
  {
   "cell_type": "code",
   "execution_count": null,
   "id": "8a9b2f28",
   "metadata": {
    "papermill": {
     "duration": 0.017851,
     "end_time": "2025-09-19T19:33:27.054178",
     "exception": false,
     "start_time": "2025-09-19T19:33:27.036327",
     "status": "completed"
    },
    "tags": []
   },
   "outputs": [],
   "source": []
  },
  {
   "cell_type": "code",
   "execution_count": null,
   "id": "2e3efde1",
   "metadata": {
    "papermill": {
     "duration": 0.016692,
     "end_time": "2025-09-19T19:33:27.087946",
     "exception": false,
     "start_time": "2025-09-19T19:33:27.071254",
     "status": "completed"
    },
    "tags": []
   },
   "outputs": [],
   "source": []
  },
  {
   "cell_type": "code",
   "execution_count": null,
   "id": "53b13c10",
   "metadata": {
    "papermill": {
     "duration": 0.016644,
     "end_time": "2025-09-19T19:33:27.121525",
     "exception": false,
     "start_time": "2025-09-19T19:33:27.104881",
     "status": "completed"
    },
    "tags": []
   },
   "outputs": [],
   "source": []
  },
  {
   "cell_type": "code",
   "execution_count": null,
   "id": "9ec3909e",
   "metadata": {
    "papermill": {
     "duration": 0.01661,
     "end_time": "2025-09-19T19:33:27.155015",
     "exception": false,
     "start_time": "2025-09-19T19:33:27.138405",
     "status": "completed"
    },
    "tags": []
   },
   "outputs": [],
   "source": []
  },
  {
   "cell_type": "code",
   "execution_count": null,
   "id": "5941d2e2",
   "metadata": {
    "papermill": {
     "duration": 0.016604,
     "end_time": "2025-09-19T19:33:27.188313",
     "exception": false,
     "start_time": "2025-09-19T19:33:27.171709",
     "status": "completed"
    },
    "tags": []
   },
   "outputs": [],
   "source": []
  },
  {
   "cell_type": "code",
   "execution_count": null,
   "id": "dfbda627",
   "metadata": {
    "papermill": {
     "duration": 0.016501,
     "end_time": "2025-09-19T19:33:27.221544",
     "exception": false,
     "start_time": "2025-09-19T19:33:27.205043",
     "status": "completed"
    },
    "tags": []
   },
   "outputs": [],
   "source": []
  },
  {
   "cell_type": "code",
   "execution_count": null,
   "id": "2d8b30bb",
   "metadata": {
    "papermill": {
     "duration": 0.016654,
     "end_time": "2025-09-19T19:33:27.255040",
     "exception": false,
     "start_time": "2025-09-19T19:33:27.238386",
     "status": "completed"
    },
    "tags": []
   },
   "outputs": [],
   "source": []
  },
  {
   "cell_type": "code",
   "execution_count": null,
   "id": "4f3353d2",
   "metadata": {
    "papermill": {
     "duration": 0.01666,
     "end_time": "2025-09-19T19:33:27.288526",
     "exception": false,
     "start_time": "2025-09-19T19:33:27.271866",
     "status": "completed"
    },
    "tags": []
   },
   "outputs": [],
   "source": []
  },
  {
   "cell_type": "code",
   "execution_count": null,
   "id": "6ed25214",
   "metadata": {
    "papermill": {
     "duration": 0.017191,
     "end_time": "2025-09-19T19:33:27.322963",
     "exception": false,
     "start_time": "2025-09-19T19:33:27.305772",
     "status": "completed"
    },
    "tags": []
   },
   "outputs": [],
   "source": []
  },
  {
   "cell_type": "code",
   "execution_count": null,
   "id": "ca0d4e02",
   "metadata": {
    "papermill": {
     "duration": 0.018742,
     "end_time": "2025-09-19T19:33:27.358901",
     "exception": false,
     "start_time": "2025-09-19T19:33:27.340159",
     "status": "completed"
    },
    "tags": []
   },
   "outputs": [],
   "source": []
  },
  {
   "cell_type": "code",
   "execution_count": null,
   "id": "076872d3",
   "metadata": {
    "papermill": {
     "duration": 0.016668,
     "end_time": "2025-09-19T19:33:27.392405",
     "exception": false,
     "start_time": "2025-09-19T19:33:27.375737",
     "status": "completed"
    },
    "tags": []
   },
   "outputs": [],
   "source": []
  },
  {
   "cell_type": "code",
   "execution_count": null,
   "id": "157d862d",
   "metadata": {
    "papermill": {
     "duration": 0.016698,
     "end_time": "2025-09-19T19:33:27.426191",
     "exception": false,
     "start_time": "2025-09-19T19:33:27.409493",
     "status": "completed"
    },
    "tags": []
   },
   "outputs": [],
   "source": []
  },
  {
   "cell_type": "code",
   "execution_count": null,
   "id": "ce2f5719",
   "metadata": {
    "papermill": {
     "duration": 0.016785,
     "end_time": "2025-09-19T19:33:27.461510",
     "exception": false,
     "start_time": "2025-09-19T19:33:27.444725",
     "status": "completed"
    },
    "tags": []
   },
   "outputs": [],
   "source": []
  },
  {
   "cell_type": "code",
   "execution_count": null,
   "id": "b2b44cdd",
   "metadata": {
    "papermill": {
     "duration": 0.017191,
     "end_time": "2025-09-19T19:33:27.495623",
     "exception": false,
     "start_time": "2025-09-19T19:33:27.478432",
     "status": "completed"
    },
    "tags": []
   },
   "outputs": [],
   "source": []
  },
  {
   "cell_type": "code",
   "execution_count": null,
   "id": "5a5f9df9",
   "metadata": {
    "papermill": {
     "duration": 0.016849,
     "end_time": "2025-09-19T19:33:27.530154",
     "exception": false,
     "start_time": "2025-09-19T19:33:27.513305",
     "status": "completed"
    },
    "tags": []
   },
   "outputs": [],
   "source": []
  },
  {
   "cell_type": "code",
   "execution_count": null,
   "id": "4e9d5c84",
   "metadata": {
    "papermill": {
     "duration": 0.016806,
     "end_time": "2025-09-19T19:33:27.563850",
     "exception": false,
     "start_time": "2025-09-19T19:33:27.547044",
     "status": "completed"
    },
    "tags": []
   },
   "outputs": [],
   "source": []
  },
  {
   "cell_type": "code",
   "execution_count": null,
   "id": "777d83df",
   "metadata": {
    "papermill": {
     "duration": 0.016934,
     "end_time": "2025-09-19T19:33:27.597569",
     "exception": false,
     "start_time": "2025-09-19T19:33:27.580635",
     "status": "completed"
    },
    "tags": []
   },
   "outputs": [],
   "source": []
  },
  {
   "cell_type": "code",
   "execution_count": null,
   "id": "397db805",
   "metadata": {
    "papermill": {
     "duration": 0.079985,
     "end_time": "2025-09-19T19:33:27.694386",
     "exception": false,
     "start_time": "2025-09-19T19:33:27.614401",
     "status": "completed"
    },
    "tags": []
   },
   "outputs": [],
   "source": []
  },
  {
   "cell_type": "code",
   "execution_count": null,
   "id": "217e9462",
   "metadata": {
    "papermill": {
     "duration": 0.017394,
     "end_time": "2025-09-19T19:33:27.729432",
     "exception": false,
     "start_time": "2025-09-19T19:33:27.712038",
     "status": "completed"
    },
    "tags": []
   },
   "outputs": [],
   "source": []
  },
  {
   "cell_type": "code",
   "execution_count": null,
   "id": "9701c181",
   "metadata": {
    "papermill": {
     "duration": 0.017418,
     "end_time": "2025-09-19T19:33:27.763920",
     "exception": false,
     "start_time": "2025-09-19T19:33:27.746502",
     "status": "completed"
    },
    "tags": []
   },
   "outputs": [],
   "source": []
  },
  {
   "cell_type": "code",
   "execution_count": null,
   "id": "5723e90d",
   "metadata": {
    "papermill": {
     "duration": 0.016983,
     "end_time": "2025-09-19T19:33:27.797681",
     "exception": false,
     "start_time": "2025-09-19T19:33:27.780698",
     "status": "completed"
    },
    "tags": []
   },
   "outputs": [],
   "source": []
  },
  {
   "cell_type": "code",
   "execution_count": null,
   "id": "023808f4",
   "metadata": {
    "papermill": {
     "duration": 0.017337,
     "end_time": "2025-09-19T19:33:27.831896",
     "exception": false,
     "start_time": "2025-09-19T19:33:27.814559",
     "status": "completed"
    },
    "tags": []
   },
   "outputs": [],
   "source": []
  },
  {
   "cell_type": "code",
   "execution_count": null,
   "id": "44b2696c",
   "metadata": {
    "papermill": {
     "duration": 0.016885,
     "end_time": "2025-09-19T19:33:27.866296",
     "exception": false,
     "start_time": "2025-09-19T19:33:27.849411",
     "status": "completed"
    },
    "tags": []
   },
   "outputs": [],
   "source": []
  },
  {
   "cell_type": "code",
   "execution_count": null,
   "id": "7b2a40bf",
   "metadata": {
    "papermill": {
     "duration": 0.016779,
     "end_time": "2025-09-19T19:33:27.899892",
     "exception": false,
     "start_time": "2025-09-19T19:33:27.883113",
     "status": "completed"
    },
    "tags": []
   },
   "outputs": [],
   "source": []
  },
  {
   "cell_type": "code",
   "execution_count": null,
   "id": "7fd3f7f0",
   "metadata": {
    "papermill": {
     "duration": 0.016705,
     "end_time": "2025-09-19T19:33:27.933425",
     "exception": false,
     "start_time": "2025-09-19T19:33:27.916720",
     "status": "completed"
    },
    "tags": []
   },
   "outputs": [],
   "source": []
  },
  {
   "cell_type": "code",
   "execution_count": null,
   "id": "67936d2b",
   "metadata": {
    "papermill": {
     "duration": 0.01816,
     "end_time": "2025-09-19T19:33:27.968572",
     "exception": false,
     "start_time": "2025-09-19T19:33:27.950412",
     "status": "completed"
    },
    "tags": []
   },
   "outputs": [],
   "source": []
  },
  {
   "cell_type": "code",
   "execution_count": null,
   "id": "038ecc5f",
   "metadata": {
    "papermill": {
     "duration": 0.018132,
     "end_time": "2025-09-19T19:33:28.005099",
     "exception": false,
     "start_time": "2025-09-19T19:33:27.986967",
     "status": "completed"
    },
    "tags": []
   },
   "outputs": [],
   "source": []
  },
  {
   "cell_type": "code",
   "execution_count": null,
   "id": "5ab6105d",
   "metadata": {
    "papermill": {
     "duration": 0.016544,
     "end_time": "2025-09-19T19:33:28.039517",
     "exception": false,
     "start_time": "2025-09-19T19:33:28.022973",
     "status": "completed"
    },
    "tags": []
   },
   "outputs": [],
   "source": []
  },
  {
   "cell_type": "code",
   "execution_count": null,
   "id": "e8590f73",
   "metadata": {
    "papermill": {
     "duration": 0.016913,
     "end_time": "2025-09-19T19:33:28.073833",
     "exception": false,
     "start_time": "2025-09-19T19:33:28.056920",
     "status": "completed"
    },
    "tags": []
   },
   "outputs": [],
   "source": []
  },
  {
   "cell_type": "code",
   "execution_count": null,
   "id": "4bf043ae",
   "metadata": {
    "papermill": {
     "duration": 0.017261,
     "end_time": "2025-09-19T19:33:28.108915",
     "exception": false,
     "start_time": "2025-09-19T19:33:28.091654",
     "status": "completed"
    },
    "tags": []
   },
   "outputs": [],
   "source": []
  },
  {
   "cell_type": "code",
   "execution_count": null,
   "id": "064f6fa8",
   "metadata": {
    "papermill": {
     "duration": 0.016796,
     "end_time": "2025-09-19T19:33:28.142607",
     "exception": false,
     "start_time": "2025-09-19T19:33:28.125811",
     "status": "completed"
    },
    "tags": []
   },
   "outputs": [],
   "source": []
  },
  {
   "cell_type": "code",
   "execution_count": null,
   "id": "502fa941",
   "metadata": {
    "papermill": {
     "duration": 0.016755,
     "end_time": "2025-09-19T19:33:28.176423",
     "exception": false,
     "start_time": "2025-09-19T19:33:28.159668",
     "status": "completed"
    },
    "tags": []
   },
   "outputs": [],
   "source": []
  },
  {
   "cell_type": "code",
   "execution_count": null,
   "id": "e9535ac2",
   "metadata": {
    "papermill": {
     "duration": 0.016824,
     "end_time": "2025-09-19T19:33:28.210264",
     "exception": false,
     "start_time": "2025-09-19T19:33:28.193440",
     "status": "completed"
    },
    "tags": []
   },
   "outputs": [],
   "source": []
  },
  {
   "cell_type": "code",
   "execution_count": null,
   "id": "e1ea67fc",
   "metadata": {
    "papermill": {
     "duration": 0.016903,
     "end_time": "2025-09-19T19:33:28.244477",
     "exception": false,
     "start_time": "2025-09-19T19:33:28.227574",
     "status": "completed"
    },
    "tags": []
   },
   "outputs": [],
   "source": []
  },
  {
   "cell_type": "code",
   "execution_count": null,
   "id": "13717607",
   "metadata": {
    "papermill": {
     "duration": 0.016803,
     "end_time": "2025-09-19T19:33:28.278296",
     "exception": false,
     "start_time": "2025-09-19T19:33:28.261493",
     "status": "completed"
    },
    "tags": []
   },
   "outputs": [],
   "source": []
  },
  {
   "cell_type": "code",
   "execution_count": null,
   "id": "0ef427ac",
   "metadata": {
    "papermill": {
     "duration": 0.016667,
     "end_time": "2025-09-19T19:33:28.311957",
     "exception": false,
     "start_time": "2025-09-19T19:33:28.295290",
     "status": "completed"
    },
    "tags": []
   },
   "outputs": [],
   "source": []
  },
  {
   "cell_type": "code",
   "execution_count": null,
   "id": "7071e3fc",
   "metadata": {
    "papermill": {
     "duration": 0.018196,
     "end_time": "2025-09-19T19:33:28.347118",
     "exception": false,
     "start_time": "2025-09-19T19:33:28.328922",
     "status": "completed"
    },
    "tags": []
   },
   "outputs": [],
   "source": []
  },
  {
   "cell_type": "code",
   "execution_count": null,
   "id": "8a929fb1",
   "metadata": {
    "papermill": {
     "duration": 0.016921,
     "end_time": "2025-09-19T19:33:28.381115",
     "exception": false,
     "start_time": "2025-09-19T19:33:28.364194",
     "status": "completed"
    },
    "tags": []
   },
   "outputs": [],
   "source": []
  },
  {
   "cell_type": "code",
   "execution_count": null,
   "id": "90702203",
   "metadata": {
    "papermill": {
     "duration": 0.017328,
     "end_time": "2025-09-19T19:33:28.415504",
     "exception": false,
     "start_time": "2025-09-19T19:33:28.398176",
     "status": "completed"
    },
    "tags": []
   },
   "outputs": [],
   "source": []
  }
 ],
 "metadata": {
  "kaggle": {
   "accelerator": "none",
   "dataSources": [],
   "dockerImageVersionId": 31089,
   "isGpuEnabled": false,
   "isInternetEnabled": true,
   "language": "python",
   "sourceType": "notebook"
  },
  "kernelspec": {
   "display_name": "Python 3",
   "language": "python",
   "name": "python3"
  },
  "language_info": {
   "codemirror_mode": {
    "name": "ipython",
    "version": 3
   },
   "file_extension": ".py",
   "mimetype": "text/x-python",
   "name": "python",
   "nbconvert_exporter": "python",
   "pygments_lexer": "ipython3",
   "version": "3.11.13"
  },
  "papermill": {
   "default_parameters": {},
   "duration": 16.770661,
   "end_time": "2025-09-19T19:33:29.052387",
   "environment_variables": {},
   "exception": null,
   "input_path": "__notebook__.ipynb",
   "output_path": "__notebook__.ipynb",
   "parameters": {},
   "start_time": "2025-09-19T19:33:12.281726",
   "version": "2.6.0"
  }
 },
 "nbformat": 4,
 "nbformat_minor": 5
}
