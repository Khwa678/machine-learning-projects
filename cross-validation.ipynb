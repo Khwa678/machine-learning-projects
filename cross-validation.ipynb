{
 "cells": [
  {
   "cell_type": "code",
   "execution_count": 1,
   "id": "2b9ccc45",
   "metadata": {
    "_cell_guid": "b1076dfc-b9ad-4769-8c92-a6c4dae69d19",
    "_uuid": "8f2839f25d086af736a60e9eeb907d3b93b6e0e5",
    "execution": {
     "iopub.execute_input": "2025-09-21T13:40:30.549556Z",
     "iopub.status.busy": "2025-09-21T13:40:30.549296Z",
     "iopub.status.idle": "2025-09-21T13:40:32.056616Z",
     "shell.execute_reply": "2025-09-21T13:40:32.055645Z"
    },
    "papermill": {
     "duration": 1.516899,
     "end_time": "2025-09-21T13:40:32.058231",
     "exception": false,
     "start_time": "2025-09-21T13:40:30.541332",
     "status": "completed"
    },
    "tags": []
   },
   "outputs": [],
   "source": [
    "# This Python 3 environment comes with many helpful analytics libraries installed\n",
    "# It is defined by the kaggle/python Docker image: https://github.com/kaggle/docker-python\n",
    "# For example, here's several helpful packages to load\n",
    "\n",
    "import numpy as np # linear algebra\n",
    "import pandas as pd # data processing, CSV file I/O (e.g. pd.read_csv)\n",
    "\n",
    "# Input data files are available in the read-only \"../input/\" directory\n",
    "# For example, running this (by clicking run or pressing Shift+Enter) will list all files under the input directory\n",
    "\n",
    "import os\n",
    "for dirname, _, filenames in os.walk('/kaggle/input'):\n",
    "    for filename in filenames:\n",
    "        print(os.path.join(dirname, filename))\n",
    "\n",
    "# You can write up to 20GB to the current directory (/kaggle/working/) that gets preserved as output when you create a version using \"Save & Run All\" \n",
    "# You can also write temporary files to /kaggle/temp/, but they won't be saved outside of the current session"
   ]
  },
  {
   "cell_type": "code",
   "execution_count": 2,
   "id": "f39aeb5d",
   "metadata": {
    "execution": {
     "iopub.execute_input": "2025-09-21T13:40:32.072856Z",
     "iopub.status.busy": "2025-09-21T13:40:32.072474Z",
     "iopub.status.idle": "2025-09-21T13:40:34.149069Z",
     "shell.execute_reply": "2025-09-21T13:40:34.148118Z"
    },
    "papermill": {
     "duration": 2.085275,
     "end_time": "2025-09-21T13:40:34.150373",
     "exception": false,
     "start_time": "2025-09-21T13:40:32.065098",
     "status": "completed"
    },
    "tags": []
   },
   "outputs": [
    {
     "name": "stderr",
     "output_type": "stream",
     "text": [
      "/usr/local/lib/python3.11/dist-packages/sklearn/datasets/_openml.py:968: FutureWarning: The default value of `parser` will change from `'liac-arff'` to `'auto'` in 1.4. You can set `parser='auto'` to silence this warning. Therefore, an `ImportError` will be raised from 1.4 if the dataset is dense and pandas is not installed. Note that the pandas parser may return different data types. See the Notes Section in fetch_openml's API doc for details.\n",
      "  warn(\n"
     ]
    },
    {
     "name": "stdout",
     "output_type": "stream",
     "text": [
      "      CRIM    ZN  INDUS CHAS    NOX     RM   AGE     DIS RAD    TAX  PTRATIO  \\\n",
      "0  0.00632  18.0   2.31    0  0.538  6.575  65.2  4.0900   1  296.0     15.3   \n",
      "1  0.02731   0.0   7.07    0  0.469  6.421  78.9  4.9671   2  242.0     17.8   \n",
      "2  0.02729   0.0   7.07    0  0.469  7.185  61.1  4.9671   2  242.0     17.8   \n",
      "3  0.03237   0.0   2.18    0  0.458  6.998  45.8  6.0622   3  222.0     18.7   \n",
      "4  0.06905   0.0   2.18    0  0.458  7.147  54.2  6.0622   3  222.0     18.7   \n",
      "\n",
      "        B  LSTAT  MEDV  \n",
      "0  396.90   4.98  24.0  \n",
      "1  396.90   9.14  21.6  \n",
      "2  392.83   4.03  34.7  \n",
      "3  394.63   2.94  33.4  \n",
      "4  396.90   5.33  36.2  \n"
     ]
    }
   ],
   "source": [
    "from sklearn.datasets import fetch_openml\n",
    "\n",
    "# fetch the dataset\n",
    "boston = fetch_openml(name=\"boston\", version=1, as_frame=True)\n",
    "\n",
    "# convert to DataFrame\n",
    "boston_df = boston.frame  \n",
    "print(boston_df.head())\n"
   ]
  },
  {
   "cell_type": "code",
   "execution_count": 3,
   "id": "1694829f",
   "metadata": {
    "execution": {
     "iopub.execute_input": "2025-09-21T13:40:34.165419Z",
     "iopub.status.busy": "2025-09-21T13:40:34.165072Z",
     "iopub.status.idle": "2025-09-21T13:40:34.191492Z",
     "shell.execute_reply": "2025-09-21T13:40:34.190570Z"
    },
    "papermill": {
     "duration": 0.034887,
     "end_time": "2025-09-21T13:40:34.192797",
     "exception": false,
     "start_time": "2025-09-21T13:40:34.157910",
     "status": "completed"
    },
    "tags": []
   },
   "outputs": [
    {
     "name": "stdout",
     "output_type": "stream",
     "text": [
      "      CRIM    ZN  INDUS CHAS    NOX     RM   AGE     DIS RAD    TAX  PTRATIO  \\\n",
      "0  0.00632  18.0   2.31    0  0.538  6.575  65.2  4.0900   1  296.0     15.3   \n",
      "1  0.02731   0.0   7.07    0  0.469  6.421  78.9  4.9671   2  242.0     17.8   \n",
      "2  0.02729   0.0   7.07    0  0.469  7.185  61.1  4.9671   2  242.0     17.8   \n",
      "3  0.03237   0.0   2.18    0  0.458  6.998  45.8  6.0622   3  222.0     18.7   \n",
      "4  0.06905   0.0   2.18    0  0.458  7.147  54.2  6.0622   3  222.0     18.7   \n",
      "\n",
      "        B  LSTAT  \n",
      "0  396.90   4.98  \n",
      "1  396.90   9.14  \n",
      "2  392.83   4.03  \n",
      "3  394.63   2.94  \n",
      "4  396.90   5.33  \n",
      "0    24.0\n",
      "1    21.6\n",
      "2    34.7\n",
      "3    33.4\n",
      "4    36.2\n",
      "Name: MEDV, dtype: float64\n"
     ]
    },
    {
     "name": "stderr",
     "output_type": "stream",
     "text": [
      "/usr/local/lib/python3.11/dist-packages/sklearn/datasets/_openml.py:968: FutureWarning: The default value of `parser` will change from `'liac-arff'` to `'auto'` in 1.4. You can set `parser='auto'` to silence this warning. Therefore, an `ImportError` will be raised from 1.4 if the dataset is dense and pandas is not installed. Note that the pandas parser may return different data types. See the Notes Section in fetch_openml's API doc for details.\n",
      "  warn(\n"
     ]
    }
   ],
   "source": [
    "from sklearn.datasets import fetch_openml\n",
    "import pandas as pd\n",
    "\n",
    "# Load Boston dataset from OpenML\n",
    "boston = fetch_openml(name=\"boston\", version=1, as_frame=True)\n",
    "\n",
    "# Features and target\n",
    "X = boston.data\n",
    "y = boston.target\n",
    "\n",
    "# Quick check\n",
    "print(X.head())\n",
    "print(y.head())\n"
   ]
  },
  {
   "cell_type": "code",
   "execution_count": 4,
   "id": "c5372930",
   "metadata": {
    "execution": {
     "iopub.execute_input": "2025-09-21T13:40:34.206917Z",
     "iopub.status.busy": "2025-09-21T13:40:34.206689Z",
     "iopub.status.idle": "2025-09-21T13:40:34.282335Z",
     "shell.execute_reply": "2025-09-21T13:40:34.281569Z"
    },
    "papermill": {
     "duration": 0.083839,
     "end_time": "2025-09-21T13:40:34.283659",
     "exception": false,
     "start_time": "2025-09-21T13:40:34.199820",
     "status": "completed"
    },
    "tags": []
   },
   "outputs": [
    {
     "name": "stdout",
     "output_type": "stream",
     "text": [
      "(339, 13) (167, 13)\n",
      "(339,) (167,)\n"
     ]
    }
   ],
   "source": [
    "from sklearn.model_selection import train_test_split\n",
    "\n",
    "X_train, X_test, y_train, y_test = train_test_split(\n",
    "    X, y, test_size=0.33, random_state=42\n",
    ")\n",
    "\n",
    "# Quick check\n",
    "print(X_train.shape, X_test.shape)\n",
    "print(y_train.shape, y_test.shape)\n"
   ]
  },
  {
   "cell_type": "code",
   "execution_count": 5,
   "id": "eb4f67ba",
   "metadata": {
    "execution": {
     "iopub.execute_input": "2025-09-21T13:40:34.297526Z",
     "iopub.status.busy": "2025-09-21T13:40:34.297071Z",
     "iopub.status.idle": "2025-09-21T13:40:34.510467Z",
     "shell.execute_reply": "2025-09-21T13:40:34.509805Z"
    },
    "papermill": {
     "duration": 0.221791,
     "end_time": "2025-09-21T13:40:34.511912",
     "exception": false,
     "start_time": "2025-09-21T13:40:34.290121",
     "status": "completed"
    },
    "tags": []
   },
   "outputs": [],
   "source": [
    "from sklearn.tree import DecisionTreeRegressor\n",
    "regressor=DecisionTreeRegressor()\n",
    "\n"
   ]
  },
  {
   "cell_type": "code",
   "execution_count": 6,
   "id": "08bd2b29",
   "metadata": {
    "execution": {
     "iopub.execute_input": "2025-09-21T13:40:34.525774Z",
     "iopub.status.busy": "2025-09-21T13:40:34.525314Z",
     "iopub.status.idle": "2025-09-21T13:40:34.541727Z",
     "shell.execute_reply": "2025-09-21T13:40:34.540998Z"
    },
    "papermill": {
     "duration": 0.024476,
     "end_time": "2025-09-21T13:40:34.542932",
     "exception": false,
     "start_time": "2025-09-21T13:40:34.518456",
     "status": "completed"
    },
    "tags": []
   },
   "outputs": [
    {
     "data": {
      "text/html": [
       "<style>#sk-container-id-1 {color: black;background-color: white;}#sk-container-id-1 pre{padding: 0;}#sk-container-id-1 div.sk-toggleable {background-color: white;}#sk-container-id-1 label.sk-toggleable__label {cursor: pointer;display: block;width: 100%;margin-bottom: 0;padding: 0.3em;box-sizing: border-box;text-align: center;}#sk-container-id-1 label.sk-toggleable__label-arrow:before {content: \"▸\";float: left;margin-right: 0.25em;color: #696969;}#sk-container-id-1 label.sk-toggleable__label-arrow:hover:before {color: black;}#sk-container-id-1 div.sk-estimator:hover label.sk-toggleable__label-arrow:before {color: black;}#sk-container-id-1 div.sk-toggleable__content {max-height: 0;max-width: 0;overflow: hidden;text-align: left;background-color: #f0f8ff;}#sk-container-id-1 div.sk-toggleable__content pre {margin: 0.2em;color: black;border-radius: 0.25em;background-color: #f0f8ff;}#sk-container-id-1 input.sk-toggleable__control:checked~div.sk-toggleable__content {max-height: 200px;max-width: 100%;overflow: auto;}#sk-container-id-1 input.sk-toggleable__control:checked~label.sk-toggleable__label-arrow:before {content: \"▾\";}#sk-container-id-1 div.sk-estimator input.sk-toggleable__control:checked~label.sk-toggleable__label {background-color: #d4ebff;}#sk-container-id-1 div.sk-label input.sk-toggleable__control:checked~label.sk-toggleable__label {background-color: #d4ebff;}#sk-container-id-1 input.sk-hidden--visually {border: 0;clip: rect(1px 1px 1px 1px);clip: rect(1px, 1px, 1px, 1px);height: 1px;margin: -1px;overflow: hidden;padding: 0;position: absolute;width: 1px;}#sk-container-id-1 div.sk-estimator {font-family: monospace;background-color: #f0f8ff;border: 1px dotted black;border-radius: 0.25em;box-sizing: border-box;margin-bottom: 0.5em;}#sk-container-id-1 div.sk-estimator:hover {background-color: #d4ebff;}#sk-container-id-1 div.sk-parallel-item::after {content: \"\";width: 100%;border-bottom: 1px solid gray;flex-grow: 1;}#sk-container-id-1 div.sk-label:hover label.sk-toggleable__label {background-color: #d4ebff;}#sk-container-id-1 div.sk-serial::before {content: \"\";position: absolute;border-left: 1px solid gray;box-sizing: border-box;top: 0;bottom: 0;left: 50%;z-index: 0;}#sk-container-id-1 div.sk-serial {display: flex;flex-direction: column;align-items: center;background-color: white;padding-right: 0.2em;padding-left: 0.2em;position: relative;}#sk-container-id-1 div.sk-item {position: relative;z-index: 1;}#sk-container-id-1 div.sk-parallel {display: flex;align-items: stretch;justify-content: center;background-color: white;position: relative;}#sk-container-id-1 div.sk-item::before, #sk-container-id-1 div.sk-parallel-item::before {content: \"\";position: absolute;border-left: 1px solid gray;box-sizing: border-box;top: 0;bottom: 0;left: 50%;z-index: -1;}#sk-container-id-1 div.sk-parallel-item {display: flex;flex-direction: column;z-index: 1;position: relative;background-color: white;}#sk-container-id-1 div.sk-parallel-item:first-child::after {align-self: flex-end;width: 50%;}#sk-container-id-1 div.sk-parallel-item:last-child::after {align-self: flex-start;width: 50%;}#sk-container-id-1 div.sk-parallel-item:only-child::after {width: 0;}#sk-container-id-1 div.sk-dashed-wrapped {border: 1px dashed gray;margin: 0 0.4em 0.5em 0.4em;box-sizing: border-box;padding-bottom: 0.4em;background-color: white;}#sk-container-id-1 div.sk-label label {font-family: monospace;font-weight: bold;display: inline-block;line-height: 1.2em;}#sk-container-id-1 div.sk-label-container {text-align: center;}#sk-container-id-1 div.sk-container {/* jupyter's `normalize.less` sets `[hidden] { display: none; }` but bootstrap.min.css set `[hidden] { display: none !important; }` so we also need the `!important` here to be able to override the default hidden behavior on the sphinx rendered scikit-learn.org. See: https://github.com/scikit-learn/scikit-learn/issues/21755 */display: inline-block !important;position: relative;}#sk-container-id-1 div.sk-text-repr-fallback {display: none;}</style><div id=\"sk-container-id-1\" class=\"sk-top-container\"><div class=\"sk-text-repr-fallback\"><pre>DecisionTreeRegressor()</pre><b>In a Jupyter environment, please rerun this cell to show the HTML representation or trust the notebook. <br />On GitHub, the HTML representation is unable to render, please try loading this page with nbviewer.org.</b></div><div class=\"sk-container\" hidden><div class=\"sk-item\"><div class=\"sk-estimator sk-toggleable\"><input class=\"sk-toggleable__control sk-hidden--visually\" id=\"sk-estimator-id-1\" type=\"checkbox\" checked><label for=\"sk-estimator-id-1\" class=\"sk-toggleable__label sk-toggleable__label-arrow\">DecisionTreeRegressor</label><div class=\"sk-toggleable__content\"><pre>DecisionTreeRegressor()</pre></div></div></div></div></div>"
      ],
      "text/plain": [
       "DecisionTreeRegressor()"
      ]
     },
     "execution_count": 6,
     "metadata": {},
     "output_type": "execute_result"
    }
   ],
   "source": [
    "regressor.fit(X_train,y_train)\n"
   ]
  },
  {
   "cell_type": "code",
   "execution_count": 7,
   "id": "779dae34",
   "metadata": {
    "execution": {
     "iopub.execute_input": "2025-09-21T13:40:34.557306Z",
     "iopub.status.busy": "2025-09-21T13:40:34.556643Z",
     "iopub.status.idle": "2025-09-21T13:40:34.564186Z",
     "shell.execute_reply": "2025-09-21T13:40:34.563645Z"
    },
    "papermill": {
     "duration": 0.015779,
     "end_time": "2025-09-21T13:40:34.565277",
     "exception": false,
     "start_time": "2025-09-21T13:40:34.549498",
     "status": "completed"
    },
    "tags": []
   },
   "outputs": [
    {
     "data": {
      "text/plain": [
       "array([22. , 27.9,  8.1, 25. , 15.2, 21.4, 18.8, 17.8, 21.4, 19.5, 18.8,\n",
       "       19.5,  8.3, 21.2, 17.1, 22.8, 20.5, 10.5, 42.3, 14.6, 24.1, 24.4,\n",
       "       13.5, 20.6, 16.7, 14.6, 22.6, 13.5, 18.8, 22.7, 19.8, 22.9, 36.5,\n",
       "       15.3, 14.4, 13.8, 31.2, 19. , 21.7, 24.7, 19.4, 36.1, 35.2, 19.3,\n",
       "       22. ,  8.5, 14.8, 25. , 23.2, 24.5, 19.1, 34.9, 14.8, 29.4, 43.1,\n",
       "       20.6, 17.8, 34.9, 22.9, 22.5, 27.5, 24.8, 30.1, 18.2, 30.5, 14.4,\n",
       "        8.5, 22.9, 32. , 14.4, 22.6, 22. ,  8.8, 23.5, 20.6,  6.3, 19.8,\n",
       "       35.2, 10.2, 13.1, 22. , 16.3, 17.5, 10.5, 20.3, 25.1, 14.1, 23. ,\n",
       "       22.1, 18. , 22.6,  8.3, 19.8, 17.5, 22.9, 19.8, 50. , 16.3, 11.8,\n",
       "       16.3, 17.5, 21.2, 14.6, 20.4, 18.6, 11.7, 20.4, 24.7, 19. , 21.9,\n",
       "        8.8, 16.3, 22.2, 22.6, 31.7, 16.7, 50. , 18.1, 16.1, 23.7, 17.1,\n",
       "       24.8,  8.3, 18.5, 24.7, 22.9, 23.2, 37.2, 17.5, 46. , 15.4, 25. ,\n",
       "       18.2, 27.1, 11.8, 22.3, 19.8, 24.8, 24.5, 18.1, 21.7, 23.5, 19. ,\n",
       "       14.4,  5.6, 18.9, 13.8, 14.9, 13.6, 44.8, 14.1, 17.8, 23. , 18.5,\n",
       "       17.1, 22.9, 14.6, 18.6, 34.9,  7.2, 22.6, 19.3, 20.4, 22.9, 17.1,\n",
       "       22.8, 38.7])"
      ]
     },
     "execution_count": 7,
     "metadata": {},
     "output_type": "execute_result"
    }
   ],
   "source": [
    "y_pred=regressor.predict(X_test)\n",
    "y_pred"
   ]
  },
  {
   "cell_type": "code",
   "execution_count": 8,
   "id": "c4c29061",
   "metadata": {
    "execution": {
     "iopub.execute_input": "2025-09-21T13:40:34.579380Z",
     "iopub.status.busy": "2025-09-21T13:40:34.578935Z",
     "iopub.status.idle": "2025-09-21T13:40:34.583209Z",
     "shell.execute_reply": "2025-09-21T13:40:34.582476Z"
    },
    "papermill": {
     "duration": 0.012432,
     "end_time": "2025-09-21T13:40:34.584388",
     "exception": false,
     "start_time": "2025-09-21T13:40:34.571956",
     "status": "completed"
    },
    "tags": []
   },
   "outputs": [],
   "source": [
    "from sklearn.metrics import r2_score\n",
    "score =r2_score(y_pred,y_test)"
   ]
  },
  {
   "cell_type": "code",
   "execution_count": 9,
   "id": "355f0722",
   "metadata": {
    "execution": {
     "iopub.execute_input": "2025-09-21T13:40:34.598310Z",
     "iopub.status.busy": "2025-09-21T13:40:34.598079Z",
     "iopub.status.idle": "2025-09-21T13:40:34.602484Z",
     "shell.execute_reply": "2025-09-21T13:40:34.601774Z"
    },
    "papermill": {
     "duration": 0.012628,
     "end_time": "2025-09-21T13:40:34.603691",
     "exception": false,
     "start_time": "2025-09-21T13:40:34.591063",
     "status": "completed"
    },
    "tags": []
   },
   "outputs": [
    {
     "data": {
      "text/plain": [
       "0.7159652965887288"
      ]
     },
     "execution_count": 9,
     "metadata": {},
     "output_type": "execute_result"
    }
   ],
   "source": [
    "score"
   ]
  },
  {
   "cell_type": "code",
   "execution_count": 10,
   "id": "c5c09f63",
   "metadata": {
    "execution": {
     "iopub.execute_input": "2025-09-21T13:40:34.617854Z",
     "iopub.status.busy": "2025-09-21T13:40:34.617449Z",
     "iopub.status.idle": "2025-09-21T13:40:34.621668Z",
     "shell.execute_reply": "2025-09-21T13:40:34.620865Z"
    },
    "papermill": {
     "duration": 0.012558,
     "end_time": "2025-09-21T13:40:34.622854",
     "exception": false,
     "start_time": "2025-09-21T13:40:34.610296",
     "status": "completed"
    },
    "tags": []
   },
   "outputs": [],
   "source": [
    "parameter={\n",
    "    'criterian':['squared_error','friedman_mse','absolutee_error','poisson'],\n",
    "    'splitter':['best','random'],\n",
    "    'max_depth':[1,2,3,4,5,6,7,8,9,10,11,12],\n",
    "    'max_features':['auto','sqrt','log2']\n",
    "    \n",
    "    \n",
    "}\n",
    "\n",
    "regressor=DecisionTreeRegressor()"
   ]
  },
  {
   "cell_type": "code",
   "execution_count": 11,
   "id": "c7dcafe4",
   "metadata": {
    "execution": {
     "iopub.execute_input": "2025-09-21T13:40:34.636770Z",
     "iopub.status.busy": "2025-09-21T13:40:34.636553Z",
     "iopub.status.idle": "2025-09-21T13:40:43.059899Z",
     "shell.execute_reply": "2025-09-21T13:40:43.058950Z"
    },
    "papermill": {
     "duration": 8.431826,
     "end_time": "2025-09-21T13:40:43.061237",
     "exception": false,
     "start_time": "2025-09-21T13:40:34.629411",
     "status": "completed"
    },
    "tags": []
   },
   "outputs": [
    {
     "name": "stdout",
     "output_type": "stream",
     "text": [
      "Best Parameters: {'criterion': 'poisson', 'max_depth': 6, 'max_features': None, 'splitter': 'best'}\n"
     ]
    }
   ],
   "source": [
    "from sklearn.tree import DecisionTreeRegressor\n",
    "from sklearn.model_selection import GridSearchCV\n",
    "\n",
    "# parameter grid\n",
    "parameter = {\n",
    "    'criterion': ['squared_error', 'friedman_mse', 'absolute_error', 'poisson'],\n",
    "    'splitter': ['best', 'random'],\n",
    "    'max_depth': list(range(1, 13)),  # 1 to 12\n",
    "    'max_features': [None, 'sqrt', 'log2']\n",
    "}\n",
    "\n",
    "# base model\n",
    "regressor = DecisionTreeRegressor(random_state=42)\n",
    "\n",
    "# grid search\n",
    "regressorcv = GridSearchCV(estimator=regressor, param_grid=parameter, cv=5)\n",
    "\n",
    "# fit\n",
    "regressorcv.fit(X_train, y_train)\n",
    "\n",
    "# best parameters\n",
    "print(\"Best Parameters:\", regressorcv.best_params_)\n"
   ]
  },
  {
   "cell_type": "code",
   "execution_count": 12,
   "id": "d5097976",
   "metadata": {
    "execution": {
     "iopub.execute_input": "2025-09-21T13:40:43.076047Z",
     "iopub.status.busy": "2025-09-21T13:40:43.075812Z",
     "iopub.status.idle": "2025-09-21T13:40:43.080323Z",
     "shell.execute_reply": "2025-09-21T13:40:43.079703Z"
    },
    "papermill": {
     "duration": 0.013151,
     "end_time": "2025-09-21T13:40:43.081473",
     "exception": false,
     "start_time": "2025-09-21T13:40:43.068322",
     "status": "completed"
    },
    "tags": []
   },
   "outputs": [
    {
     "data": {
      "text/plain": [
       "{'criterion': 'poisson',\n",
       " 'max_depth': 6,\n",
       " 'max_features': None,\n",
       " 'splitter': 'best'}"
      ]
     },
     "execution_count": 12,
     "metadata": {},
     "output_type": "execute_result"
    }
   ],
   "source": [
    "regressorcv.best_params_"
   ]
  },
  {
   "cell_type": "code",
   "execution_count": 13,
   "id": "ffbb00f0",
   "metadata": {
    "execution": {
     "iopub.execute_input": "2025-09-21T13:40:43.095854Z",
     "iopub.status.busy": "2025-09-21T13:40:43.095626Z",
     "iopub.status.idle": "2025-09-21T13:40:51.459310Z",
     "shell.execute_reply": "2025-09-21T13:40:51.458494Z"
    },
    "papermill": {
     "duration": 8.372429,
     "end_time": "2025-09-21T13:40:51.460671",
     "exception": false,
     "start_time": "2025-09-21T13:40:43.088242",
     "status": "completed"
    },
    "tags": []
   },
   "outputs": [
    {
     "data": {
      "text/html": [
       "<style>#sk-container-id-2 {color: black;background-color: white;}#sk-container-id-2 pre{padding: 0;}#sk-container-id-2 div.sk-toggleable {background-color: white;}#sk-container-id-2 label.sk-toggleable__label {cursor: pointer;display: block;width: 100%;margin-bottom: 0;padding: 0.3em;box-sizing: border-box;text-align: center;}#sk-container-id-2 label.sk-toggleable__label-arrow:before {content: \"▸\";float: left;margin-right: 0.25em;color: #696969;}#sk-container-id-2 label.sk-toggleable__label-arrow:hover:before {color: black;}#sk-container-id-2 div.sk-estimator:hover label.sk-toggleable__label-arrow:before {color: black;}#sk-container-id-2 div.sk-toggleable__content {max-height: 0;max-width: 0;overflow: hidden;text-align: left;background-color: #f0f8ff;}#sk-container-id-2 div.sk-toggleable__content pre {margin: 0.2em;color: black;border-radius: 0.25em;background-color: #f0f8ff;}#sk-container-id-2 input.sk-toggleable__control:checked~div.sk-toggleable__content {max-height: 200px;max-width: 100%;overflow: auto;}#sk-container-id-2 input.sk-toggleable__control:checked~label.sk-toggleable__label-arrow:before {content: \"▾\";}#sk-container-id-2 div.sk-estimator input.sk-toggleable__control:checked~label.sk-toggleable__label {background-color: #d4ebff;}#sk-container-id-2 div.sk-label input.sk-toggleable__control:checked~label.sk-toggleable__label {background-color: #d4ebff;}#sk-container-id-2 input.sk-hidden--visually {border: 0;clip: rect(1px 1px 1px 1px);clip: rect(1px, 1px, 1px, 1px);height: 1px;margin: -1px;overflow: hidden;padding: 0;position: absolute;width: 1px;}#sk-container-id-2 div.sk-estimator {font-family: monospace;background-color: #f0f8ff;border: 1px dotted black;border-radius: 0.25em;box-sizing: border-box;margin-bottom: 0.5em;}#sk-container-id-2 div.sk-estimator:hover {background-color: #d4ebff;}#sk-container-id-2 div.sk-parallel-item::after {content: \"\";width: 100%;border-bottom: 1px solid gray;flex-grow: 1;}#sk-container-id-2 div.sk-label:hover label.sk-toggleable__label {background-color: #d4ebff;}#sk-container-id-2 div.sk-serial::before {content: \"\";position: absolute;border-left: 1px solid gray;box-sizing: border-box;top: 0;bottom: 0;left: 50%;z-index: 0;}#sk-container-id-2 div.sk-serial {display: flex;flex-direction: column;align-items: center;background-color: white;padding-right: 0.2em;padding-left: 0.2em;position: relative;}#sk-container-id-2 div.sk-item {position: relative;z-index: 1;}#sk-container-id-2 div.sk-parallel {display: flex;align-items: stretch;justify-content: center;background-color: white;position: relative;}#sk-container-id-2 div.sk-item::before, #sk-container-id-2 div.sk-parallel-item::before {content: \"\";position: absolute;border-left: 1px solid gray;box-sizing: border-box;top: 0;bottom: 0;left: 50%;z-index: -1;}#sk-container-id-2 div.sk-parallel-item {display: flex;flex-direction: column;z-index: 1;position: relative;background-color: white;}#sk-container-id-2 div.sk-parallel-item:first-child::after {align-self: flex-end;width: 50%;}#sk-container-id-2 div.sk-parallel-item:last-child::after {align-self: flex-start;width: 50%;}#sk-container-id-2 div.sk-parallel-item:only-child::after {width: 0;}#sk-container-id-2 div.sk-dashed-wrapped {border: 1px dashed gray;margin: 0 0.4em 0.5em 0.4em;box-sizing: border-box;padding-bottom: 0.4em;background-color: white;}#sk-container-id-2 div.sk-label label {font-family: monospace;font-weight: bold;display: inline-block;line-height: 1.2em;}#sk-container-id-2 div.sk-label-container {text-align: center;}#sk-container-id-2 div.sk-container {/* jupyter's `normalize.less` sets `[hidden] { display: none; }` but bootstrap.min.css set `[hidden] { display: none !important; }` so we also need the `!important` here to be able to override the default hidden behavior on the sphinx rendered scikit-learn.org. See: https://github.com/scikit-learn/scikit-learn/issues/21755 */display: inline-block !important;position: relative;}#sk-container-id-2 div.sk-text-repr-fallback {display: none;}</style><div id=\"sk-container-id-2\" class=\"sk-top-container\"><div class=\"sk-text-repr-fallback\"><pre>GridSearchCV(cv=5, estimator=DecisionTreeRegressor(random_state=42),\n",
       "             param_grid={&#x27;criterion&#x27;: [&#x27;squared_error&#x27;, &#x27;friedman_mse&#x27;,\n",
       "                                       &#x27;absolute_error&#x27;, &#x27;poisson&#x27;],\n",
       "                         &#x27;max_depth&#x27;: [1, 2, 3, 4, 5, 6, 7, 8, 9, 10, 11, 12],\n",
       "                         &#x27;max_features&#x27;: [None, &#x27;sqrt&#x27;, &#x27;log2&#x27;],\n",
       "                         &#x27;splitter&#x27;: [&#x27;best&#x27;, &#x27;random&#x27;]})</pre><b>In a Jupyter environment, please rerun this cell to show the HTML representation or trust the notebook. <br />On GitHub, the HTML representation is unable to render, please try loading this page with nbviewer.org.</b></div><div class=\"sk-container\" hidden><div class=\"sk-item sk-dashed-wrapped\"><div class=\"sk-label-container\"><div class=\"sk-label sk-toggleable\"><input class=\"sk-toggleable__control sk-hidden--visually\" id=\"sk-estimator-id-2\" type=\"checkbox\" ><label for=\"sk-estimator-id-2\" class=\"sk-toggleable__label sk-toggleable__label-arrow\">GridSearchCV</label><div class=\"sk-toggleable__content\"><pre>GridSearchCV(cv=5, estimator=DecisionTreeRegressor(random_state=42),\n",
       "             param_grid={&#x27;criterion&#x27;: [&#x27;squared_error&#x27;, &#x27;friedman_mse&#x27;,\n",
       "                                       &#x27;absolute_error&#x27;, &#x27;poisson&#x27;],\n",
       "                         &#x27;max_depth&#x27;: [1, 2, 3, 4, 5, 6, 7, 8, 9, 10, 11, 12],\n",
       "                         &#x27;max_features&#x27;: [None, &#x27;sqrt&#x27;, &#x27;log2&#x27;],\n",
       "                         &#x27;splitter&#x27;: [&#x27;best&#x27;, &#x27;random&#x27;]})</pre></div></div></div><div class=\"sk-parallel\"><div class=\"sk-parallel-item\"><div class=\"sk-item\"><div class=\"sk-label-container\"><div class=\"sk-label sk-toggleable\"><input class=\"sk-toggleable__control sk-hidden--visually\" id=\"sk-estimator-id-3\" type=\"checkbox\" ><label for=\"sk-estimator-id-3\" class=\"sk-toggleable__label sk-toggleable__label-arrow\">estimator: DecisionTreeRegressor</label><div class=\"sk-toggleable__content\"><pre>DecisionTreeRegressor(random_state=42)</pre></div></div></div><div class=\"sk-serial\"><div class=\"sk-item\"><div class=\"sk-estimator sk-toggleable\"><input class=\"sk-toggleable__control sk-hidden--visually\" id=\"sk-estimator-id-4\" type=\"checkbox\" ><label for=\"sk-estimator-id-4\" class=\"sk-toggleable__label sk-toggleable__label-arrow\">DecisionTreeRegressor</label><div class=\"sk-toggleable__content\"><pre>DecisionTreeRegressor(random_state=42)</pre></div></div></div></div></div></div></div></div></div></div>"
      ],
      "text/plain": [
       "GridSearchCV(cv=5, estimator=DecisionTreeRegressor(random_state=42),\n",
       "             param_grid={'criterion': ['squared_error', 'friedman_mse',\n",
       "                                       'absolute_error', 'poisson'],\n",
       "                         'max_depth': [1, 2, 3, 4, 5, 6, 7, 8, 9, 10, 11, 12],\n",
       "                         'max_features': [None, 'sqrt', 'log2'],\n",
       "                         'splitter': ['best', 'random']})"
      ]
     },
     "execution_count": 13,
     "metadata": {},
     "output_type": "execute_result"
    }
   ],
   "source": [
    "regressorcv.fit(X_train,y_train)"
   ]
  },
  {
   "cell_type": "code",
   "execution_count": 14,
   "id": "cba2b105",
   "metadata": {
    "execution": {
     "iopub.execute_input": "2025-09-21T13:40:51.476020Z",
     "iopub.status.busy": "2025-09-21T13:40:51.475602Z",
     "iopub.status.idle": "2025-09-21T13:40:51.480870Z",
     "shell.execute_reply": "2025-09-21T13:40:51.480235Z"
    },
    "papermill": {
     "duration": 0.014018,
     "end_time": "2025-09-21T13:40:51.482046",
     "exception": false,
     "start_time": "2025-09-21T13:40:51.468028",
     "status": "completed"
    },
    "tags": []
   },
   "outputs": [],
   "source": [
    "y_pred=regressorcv.predict(X_test)"
   ]
  },
  {
   "cell_type": "markdown",
   "id": "1cdc6e2a",
   "metadata": {
    "papermill": {
     "duration": 0.006682,
     "end_time": "2025-09-21T13:40:51.495691",
     "exception": false,
     "start_time": "2025-09-21T13:40:51.489009",
     "status": "completed"
    },
    "tags": []
   },
   "source": [
    "r2_score(y_pred,y_test)"
   ]
  },
  {
   "cell_type": "code",
   "execution_count": 15,
   "id": "a053a644",
   "metadata": {
    "execution": {
     "iopub.execute_input": "2025-09-21T13:40:51.556081Z",
     "iopub.status.busy": "2025-09-21T13:40:51.555821Z",
     "iopub.status.idle": "2025-09-21T13:40:51.561404Z",
     "shell.execute_reply": "2025-09-21T13:40:51.560768Z"
    },
    "papermill": {
     "duration": 0.060044,
     "end_time": "2025-09-21T13:40:51.562688",
     "exception": false,
     "start_time": "2025-09-21T13:40:51.502644",
     "status": "completed"
    },
    "tags": []
   },
   "outputs": [
    {
     "data": {
      "text/plain": [
       "0.7016453273413952"
      ]
     },
     "execution_count": 15,
     "metadata": {},
     "output_type": "execute_result"
    }
   ],
   "source": [
    "r2_score(y_pred,y_test)"
   ]
  },
  {
   "cell_type": "code",
   "execution_count": null,
   "id": "0ac7da38",
   "metadata": {
    "papermill": {
     "duration": 0.006836,
     "end_time": "2025-09-21T13:40:51.577004",
     "exception": false,
     "start_time": "2025-09-21T13:40:51.570168",
     "status": "completed"
    },
    "tags": []
   },
   "outputs": [],
   "source": []
  },
  {
   "cell_type": "code",
   "execution_count": null,
   "id": "f48b90b2",
   "metadata": {
    "papermill": {
     "duration": 0.00673,
     "end_time": "2025-09-21T13:40:51.590946",
     "exception": false,
     "start_time": "2025-09-21T13:40:51.584216",
     "status": "completed"
    },
    "tags": []
   },
   "outputs": [],
   "source": []
  },
  {
   "cell_type": "code",
   "execution_count": null,
   "id": "608daf37",
   "metadata": {
    "papermill": {
     "duration": 0.006761,
     "end_time": "2025-09-21T13:40:51.604607",
     "exception": false,
     "start_time": "2025-09-21T13:40:51.597846",
     "status": "completed"
    },
    "tags": []
   },
   "outputs": [],
   "source": []
  },
  {
   "cell_type": "code",
   "execution_count": null,
   "id": "6309b1a3",
   "metadata": {
    "papermill": {
     "duration": 0.006765,
     "end_time": "2025-09-21T13:40:51.618423",
     "exception": false,
     "start_time": "2025-09-21T13:40:51.611658",
     "status": "completed"
    },
    "tags": []
   },
   "outputs": [],
   "source": []
  },
  {
   "cell_type": "code",
   "execution_count": null,
   "id": "31fb102a",
   "metadata": {
    "papermill": {
     "duration": 0.006821,
     "end_time": "2025-09-21T13:40:51.632269",
     "exception": false,
     "start_time": "2025-09-21T13:40:51.625448",
     "status": "completed"
    },
    "tags": []
   },
   "outputs": [],
   "source": []
  },
  {
   "cell_type": "code",
   "execution_count": null,
   "id": "f191b66b",
   "metadata": {
    "papermill": {
     "duration": 0.006851,
     "end_time": "2025-09-21T13:40:51.646093",
     "exception": false,
     "start_time": "2025-09-21T13:40:51.639242",
     "status": "completed"
    },
    "tags": []
   },
   "outputs": [],
   "source": []
  },
  {
   "cell_type": "code",
   "execution_count": null,
   "id": "96246835",
   "metadata": {
    "papermill": {
     "duration": 0.006825,
     "end_time": "2025-09-21T13:40:51.659896",
     "exception": false,
     "start_time": "2025-09-21T13:40:51.653071",
     "status": "completed"
    },
    "tags": []
   },
   "outputs": [],
   "source": []
  },
  {
   "cell_type": "code",
   "execution_count": null,
   "id": "7017b5d3",
   "metadata": {
    "papermill": {
     "duration": 0.006841,
     "end_time": "2025-09-21T13:40:51.673772",
     "exception": false,
     "start_time": "2025-09-21T13:40:51.666931",
     "status": "completed"
    },
    "tags": []
   },
   "outputs": [],
   "source": []
  },
  {
   "cell_type": "code",
   "execution_count": null,
   "id": "905a15a8",
   "metadata": {
    "papermill": {
     "duration": 0.006916,
     "end_time": "2025-09-21T13:40:51.687810",
     "exception": false,
     "start_time": "2025-09-21T13:40:51.680894",
     "status": "completed"
    },
    "tags": []
   },
   "outputs": [],
   "source": []
  },
  {
   "cell_type": "code",
   "execution_count": null,
   "id": "accc5fd5",
   "metadata": {
    "papermill": {
     "duration": 0.006918,
     "end_time": "2025-09-21T13:40:51.701757",
     "exception": false,
     "start_time": "2025-09-21T13:40:51.694839",
     "status": "completed"
    },
    "tags": []
   },
   "outputs": [],
   "source": []
  },
  {
   "cell_type": "code",
   "execution_count": null,
   "id": "f25dfd40",
   "metadata": {
    "papermill": {
     "duration": 0.006926,
     "end_time": "2025-09-21T13:40:51.715641",
     "exception": false,
     "start_time": "2025-09-21T13:40:51.708715",
     "status": "completed"
    },
    "tags": []
   },
   "outputs": [],
   "source": []
  },
  {
   "cell_type": "code",
   "execution_count": null,
   "id": "b09bcbc9",
   "metadata": {
    "papermill": {
     "duration": 0.006972,
     "end_time": "2025-09-21T13:40:51.729621",
     "exception": false,
     "start_time": "2025-09-21T13:40:51.722649",
     "status": "completed"
    },
    "tags": []
   },
   "outputs": [],
   "source": []
  },
  {
   "cell_type": "code",
   "execution_count": null,
   "id": "d3e90a09",
   "metadata": {
    "papermill": {
     "duration": 0.006994,
     "end_time": "2025-09-21T13:40:51.743652",
     "exception": false,
     "start_time": "2025-09-21T13:40:51.736658",
     "status": "completed"
    },
    "tags": []
   },
   "outputs": [],
   "source": []
  },
  {
   "cell_type": "code",
   "execution_count": null,
   "id": "e5f9e224",
   "metadata": {
    "papermill": {
     "duration": 0.006834,
     "end_time": "2025-09-21T13:40:51.757687",
     "exception": false,
     "start_time": "2025-09-21T13:40:51.750853",
     "status": "completed"
    },
    "tags": []
   },
   "outputs": [],
   "source": []
  },
  {
   "cell_type": "code",
   "execution_count": null,
   "id": "de752d00",
   "metadata": {
    "papermill": {
     "duration": 0.006837,
     "end_time": "2025-09-21T13:40:51.771629",
     "exception": false,
     "start_time": "2025-09-21T13:40:51.764792",
     "status": "completed"
    },
    "tags": []
   },
   "outputs": [],
   "source": []
  },
  {
   "cell_type": "code",
   "execution_count": null,
   "id": "6bd1d6aa",
   "metadata": {
    "papermill": {
     "duration": 0.006791,
     "end_time": "2025-09-21T13:40:51.785413",
     "exception": false,
     "start_time": "2025-09-21T13:40:51.778622",
     "status": "completed"
    },
    "tags": []
   },
   "outputs": [],
   "source": []
  },
  {
   "cell_type": "code",
   "execution_count": null,
   "id": "48a9378f",
   "metadata": {
    "papermill": {
     "duration": 0.006822,
     "end_time": "2025-09-21T13:40:51.799239",
     "exception": false,
     "start_time": "2025-09-21T13:40:51.792417",
     "status": "completed"
    },
    "tags": []
   },
   "outputs": [],
   "source": []
  },
  {
   "cell_type": "code",
   "execution_count": null,
   "id": "c07f1d67",
   "metadata": {
    "papermill": {
     "duration": 0.00688,
     "end_time": "2025-09-21T13:40:51.813093",
     "exception": false,
     "start_time": "2025-09-21T13:40:51.806213",
     "status": "completed"
    },
    "tags": []
   },
   "outputs": [],
   "source": []
  },
  {
   "cell_type": "code",
   "execution_count": null,
   "id": "b29af1c7",
   "metadata": {
    "papermill": {
     "duration": 0.00681,
     "end_time": "2025-09-21T13:40:51.826898",
     "exception": false,
     "start_time": "2025-09-21T13:40:51.820088",
     "status": "completed"
    },
    "tags": []
   },
   "outputs": [],
   "source": []
  },
  {
   "cell_type": "code",
   "execution_count": null,
   "id": "faac9897",
   "metadata": {
    "papermill": {
     "duration": 0.006852,
     "end_time": "2025-09-21T13:40:51.840772",
     "exception": false,
     "start_time": "2025-09-21T13:40:51.833920",
     "status": "completed"
    },
    "tags": []
   },
   "outputs": [],
   "source": []
  },
  {
   "cell_type": "code",
   "execution_count": null,
   "id": "e294d7d1",
   "metadata": {
    "papermill": {
     "duration": 0.006859,
     "end_time": "2025-09-21T13:40:51.854820",
     "exception": false,
     "start_time": "2025-09-21T13:40:51.847961",
     "status": "completed"
    },
    "tags": []
   },
   "outputs": [],
   "source": []
  },
  {
   "cell_type": "code",
   "execution_count": null,
   "id": "b9d684a9",
   "metadata": {
    "papermill": {
     "duration": 0.006896,
     "end_time": "2025-09-21T13:40:51.868697",
     "exception": false,
     "start_time": "2025-09-21T13:40:51.861801",
     "status": "completed"
    },
    "tags": []
   },
   "outputs": [],
   "source": []
  },
  {
   "cell_type": "code",
   "execution_count": null,
   "id": "f24eb374",
   "metadata": {
    "papermill": {
     "duration": 0.006849,
     "end_time": "2025-09-21T13:40:51.882541",
     "exception": false,
     "start_time": "2025-09-21T13:40:51.875692",
     "status": "completed"
    },
    "tags": []
   },
   "outputs": [],
   "source": []
  },
  {
   "cell_type": "code",
   "execution_count": null,
   "id": "55b3425f",
   "metadata": {
    "papermill": {
     "duration": 0.00691,
     "end_time": "2025-09-21T13:40:51.896432",
     "exception": false,
     "start_time": "2025-09-21T13:40:51.889522",
     "status": "completed"
    },
    "tags": []
   },
   "outputs": [],
   "source": []
  },
  {
   "cell_type": "code",
   "execution_count": null,
   "id": "3b179561",
   "metadata": {
    "papermill": {
     "duration": 0.00679,
     "end_time": "2025-09-21T13:40:51.910203",
     "exception": false,
     "start_time": "2025-09-21T13:40:51.903413",
     "status": "completed"
    },
    "tags": []
   },
   "outputs": [],
   "source": []
  },
  {
   "cell_type": "code",
   "execution_count": null,
   "id": "2898cd6a",
   "metadata": {
    "papermill": {
     "duration": 0.006763,
     "end_time": "2025-09-21T13:40:51.923903",
     "exception": false,
     "start_time": "2025-09-21T13:40:51.917140",
     "status": "completed"
    },
    "tags": []
   },
   "outputs": [],
   "source": []
  },
  {
   "cell_type": "code",
   "execution_count": null,
   "id": "398bca7c",
   "metadata": {
    "papermill": {
     "duration": 0.006825,
     "end_time": "2025-09-21T13:40:51.937697",
     "exception": false,
     "start_time": "2025-09-21T13:40:51.930872",
     "status": "completed"
    },
    "tags": []
   },
   "outputs": [],
   "source": []
  },
  {
   "cell_type": "code",
   "execution_count": null,
   "id": "d8b6396d",
   "metadata": {
    "papermill": {
     "duration": 0.006789,
     "end_time": "2025-09-21T13:40:51.951456",
     "exception": false,
     "start_time": "2025-09-21T13:40:51.944667",
     "status": "completed"
    },
    "tags": []
   },
   "outputs": [],
   "source": []
  },
  {
   "cell_type": "code",
   "execution_count": null,
   "id": "1921ed8e",
   "metadata": {
    "papermill": {
     "duration": 0.006777,
     "end_time": "2025-09-21T13:40:51.965203",
     "exception": false,
     "start_time": "2025-09-21T13:40:51.958426",
     "status": "completed"
    },
    "tags": []
   },
   "outputs": [],
   "source": []
  },
  {
   "cell_type": "code",
   "execution_count": null,
   "id": "67c24132",
   "metadata": {
    "papermill": {
     "duration": 0.006766,
     "end_time": "2025-09-21T13:40:51.978947",
     "exception": false,
     "start_time": "2025-09-21T13:40:51.972181",
     "status": "completed"
    },
    "tags": []
   },
   "outputs": [],
   "source": []
  },
  {
   "cell_type": "code",
   "execution_count": null,
   "id": "83b73c9d",
   "metadata": {
    "papermill": {
     "duration": 0.006919,
     "end_time": "2025-09-21T13:40:51.992793",
     "exception": false,
     "start_time": "2025-09-21T13:40:51.985874",
     "status": "completed"
    },
    "tags": []
   },
   "outputs": [],
   "source": []
  },
  {
   "cell_type": "code",
   "execution_count": null,
   "id": "ba960b7f",
   "metadata": {
    "papermill": {
     "duration": 0.006816,
     "end_time": "2025-09-21T13:40:52.006574",
     "exception": false,
     "start_time": "2025-09-21T13:40:51.999758",
     "status": "completed"
    },
    "tags": []
   },
   "outputs": [],
   "source": []
  },
  {
   "cell_type": "code",
   "execution_count": null,
   "id": "71323f69",
   "metadata": {
    "papermill": {
     "duration": 0.006769,
     "end_time": "2025-09-21T13:40:52.020304",
     "exception": false,
     "start_time": "2025-09-21T13:40:52.013535",
     "status": "completed"
    },
    "tags": []
   },
   "outputs": [],
   "source": []
  },
  {
   "cell_type": "code",
   "execution_count": null,
   "id": "b1c333cc",
   "metadata": {
    "papermill": {
     "duration": 0.006827,
     "end_time": "2025-09-21T13:40:52.034080",
     "exception": false,
     "start_time": "2025-09-21T13:40:52.027253",
     "status": "completed"
    },
    "tags": []
   },
   "outputs": [],
   "source": []
  },
  {
   "cell_type": "code",
   "execution_count": null,
   "id": "780d3137",
   "metadata": {
    "papermill": {
     "duration": 0.006865,
     "end_time": "2025-09-21T13:40:52.047887",
     "exception": false,
     "start_time": "2025-09-21T13:40:52.041022",
     "status": "completed"
    },
    "tags": []
   },
   "outputs": [],
   "source": []
  },
  {
   "cell_type": "code",
   "execution_count": null,
   "id": "bb85c7f8",
   "metadata": {
    "papermill": {
     "duration": 0.006873,
     "end_time": "2025-09-21T13:40:52.061733",
     "exception": false,
     "start_time": "2025-09-21T13:40:52.054860",
     "status": "completed"
    },
    "tags": []
   },
   "outputs": [],
   "source": []
  },
  {
   "cell_type": "code",
   "execution_count": null,
   "id": "871ac3df",
   "metadata": {
    "papermill": {
     "duration": 0.006828,
     "end_time": "2025-09-21T13:40:52.075539",
     "exception": false,
     "start_time": "2025-09-21T13:40:52.068711",
     "status": "completed"
    },
    "tags": []
   },
   "outputs": [],
   "source": []
  }
 ],
 "metadata": {
  "kaggle": {
   "accelerator": "none",
   "dataSources": [],
   "dockerImageVersionId": 31089,
   "isGpuEnabled": false,
   "isInternetEnabled": true,
   "language": "python",
   "sourceType": "notebook"
  },
  "kernelspec": {
   "display_name": "Python 3",
   "language": "python",
   "name": "python3"
  },
  "language_info": {
   "codemirror_mode": {
    "name": "ipython",
    "version": 3
   },
   "file_extension": ".py",
   "mimetype": "text/x-python",
   "name": "python",
   "nbconvert_exporter": "python",
   "pygments_lexer": "ipython3",
   "version": "3.11.13"
  },
  "papermill": {
   "default_parameters": {},
   "duration": 26.497934,
   "end_time": "2025-09-21T13:40:52.600309",
   "environment_variables": {},
   "exception": null,
   "input_path": "__notebook__.ipynb",
   "output_path": "__notebook__.ipynb",
   "parameters": {},
   "start_time": "2025-09-21T13:40:26.102375",
   "version": "2.6.0"
  }
 },
 "nbformat": 4,
 "nbformat_minor": 5
}
